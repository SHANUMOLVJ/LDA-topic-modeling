{
  "nbformat": 4,
  "nbformat_minor": 0,
  "metadata": {
    "colab": {
      "provenance": [],
      "include_colab_link": true
    },
    "kernelspec": {
      "name": "python3",
      "display_name": "Python 3"
    },
    "language_info": {
      "name": "python"
    }
  },
  "cells": [
    {
      "cell_type": "markdown",
      "metadata": {
        "id": "view-in-github",
        "colab_type": "text"
      },
      "source": [
        "<a href=\"https://colab.research.google.com/github/SHANUMOLVJ/LDA-topic-modeling/blob/main/LDA_topic_modeling.ipynb\" target=\"_parent\"><img src=\"https://colab.research.google.com/assets/colab-badge.svg\" alt=\"Open In Colab\"/></a>"
      ]
    },
    {
      "cell_type": "code",
      "execution_count": null,
      "metadata": {
        "colab": {
          "base_uri": "https://localhost:8080/"
        },
        "id": "0xRaxDxKRRiT",
        "outputId": "1f8d318b-3d9d-4d77-8b5e-90aef22e1170"
      },
      "outputs": [
        {
          "output_type": "stream",
          "name": "stdout",
          "text": [
            "Requirement already satisfied: gensim in /usr/local/lib/python3.10/dist-packages (4.3.3)\n",
            "Requirement already satisfied: pyLDAvis in /usr/local/lib/python3.10/dist-packages (3.4.1)\n",
            "Requirement already satisfied: matplotlib in /usr/local/lib/python3.10/dist-packages (3.7.1)\n",
            "Requirement already satisfied: seaborn in /usr/local/lib/python3.10/dist-packages (0.13.1)\n",
            "Requirement already satisfied: numpy<2.0,>=1.18.5 in /usr/local/lib/python3.10/dist-packages (from gensim) (1.26.4)\n",
            "Requirement already satisfied: scipy<1.14.0,>=1.7.0 in /usr/local/lib/python3.10/dist-packages (from gensim) (1.13.1)\n",
            "Requirement already satisfied: smart-open>=1.8.1 in /usr/local/lib/python3.10/dist-packages (from gensim) (7.0.4)\n",
            "Requirement already satisfied: pandas>=2.0.0 in /usr/local/lib/python3.10/dist-packages (from pyLDAvis) (2.1.4)\n",
            "Requirement already satisfied: joblib>=1.2.0 in /usr/local/lib/python3.10/dist-packages (from pyLDAvis) (1.4.2)\n",
            "Requirement already satisfied: jinja2 in /usr/local/lib/python3.10/dist-packages (from pyLDAvis) (3.1.4)\n",
            "Requirement already satisfied: numexpr in /usr/local/lib/python3.10/dist-packages (from pyLDAvis) (2.10.1)\n",
            "Requirement already satisfied: funcy in /usr/local/lib/python3.10/dist-packages (from pyLDAvis) (2.0)\n",
            "Requirement already satisfied: scikit-learn>=1.0.0 in /usr/local/lib/python3.10/dist-packages (from pyLDAvis) (1.3.2)\n",
            "Requirement already satisfied: setuptools in /usr/local/lib/python3.10/dist-packages (from pyLDAvis) (71.0.4)\n",
            "Requirement already satisfied: contourpy>=1.0.1 in /usr/local/lib/python3.10/dist-packages (from matplotlib) (1.2.1)\n",
            "Requirement already satisfied: cycler>=0.10 in /usr/local/lib/python3.10/dist-packages (from matplotlib) (0.12.1)\n",
            "Requirement already satisfied: fonttools>=4.22.0 in /usr/local/lib/python3.10/dist-packages (from matplotlib) (4.53.1)\n",
            "Requirement already satisfied: kiwisolver>=1.0.1 in /usr/local/lib/python3.10/dist-packages (from matplotlib) (1.4.5)\n",
            "Requirement already satisfied: packaging>=20.0 in /usr/local/lib/python3.10/dist-packages (from matplotlib) (24.1)\n",
            "Requirement already satisfied: pillow>=6.2.0 in /usr/local/lib/python3.10/dist-packages (from matplotlib) (9.4.0)\n",
            "Requirement already satisfied: pyparsing>=2.3.1 in /usr/local/lib/python3.10/dist-packages (from matplotlib) (3.1.2)\n",
            "Requirement already satisfied: python-dateutil>=2.7 in /usr/local/lib/python3.10/dist-packages (from matplotlib) (2.8.2)\n",
            "Requirement already satisfied: pytz>=2020.1 in /usr/local/lib/python3.10/dist-packages (from pandas>=2.0.0->pyLDAvis) (2024.1)\n",
            "Requirement already satisfied: tzdata>=2022.1 in /usr/local/lib/python3.10/dist-packages (from pandas>=2.0.0->pyLDAvis) (2024.1)\n",
            "Requirement already satisfied: six>=1.5 in /usr/local/lib/python3.10/dist-packages (from python-dateutil>=2.7->matplotlib) (1.16.0)\n",
            "Requirement already satisfied: threadpoolctl>=2.0.0 in /usr/local/lib/python3.10/dist-packages (from scikit-learn>=1.0.0->pyLDAvis) (3.5.0)\n",
            "Requirement already satisfied: wrapt in /usr/local/lib/python3.10/dist-packages (from smart-open>=1.8.1->gensim) (1.16.0)\n",
            "Requirement already satisfied: MarkupSafe>=2.0 in /usr/local/lib/python3.10/dist-packages (from jinja2->pyLDAvis) (2.1.5)\n"
          ]
        }
      ],
      "source": [
        "# Install necessary libraries (if not already installed)\n",
        "!pip install gensim pyLDAvis matplotlib seaborn"
      ]
    },
    {
      "cell_type": "code",
      "source": [
        "# Step 1: Data Collection\n",
        "from sklearn.datasets import fetch_20newsgroups\n",
        "import nltk"
      ],
      "metadata": {
        "id": "Z-FcYrixRfLz"
      },
      "execution_count": null,
      "outputs": []
    },
    {
      "cell_type": "code",
      "source": [
        "# Load the dataset\n",
        "newsgroups_data = fetch_20newsgroups(subset='all')\n",
        "documents = newsgroups_data.data"
      ],
      "metadata": {
        "id": "jAuPGF0URiXi"
      },
      "execution_count": null,
      "outputs": []
    },
    {
      "cell_type": "code",
      "source": [
        "# Step 2: Text Preprocessing\n",
        "# Install necessary NLTK data (Colab requires this to be done explicitly)\n",
        "nltk.download('punkt')\n",
        "nltk.download('stopwords')\n",
        "nltk.download('wordnet')\n",
        "\n",
        "from nltk.corpus import stopwords\n",
        "from nltk.tokenize import word_tokenize\n",
        "from nltk.stem import WordNetLemmatizer\n",
        "import re"
      ],
      "metadata": {
        "colab": {
          "base_uri": "https://localhost:8080/"
        },
        "id": "J87xiL8NRqYI",
        "outputId": "5e6a5e5b-666f-4d1d-c299-ee176e2a39bb"
      },
      "execution_count": null,
      "outputs": [
        {
          "output_type": "stream",
          "name": "stderr",
          "text": [
            "[nltk_data] Downloading package punkt to /root/nltk_data...\n",
            "[nltk_data]   Package punkt is already up-to-date!\n",
            "[nltk_data] Downloading package stopwords to /root/nltk_data...\n",
            "[nltk_data]   Package stopwords is already up-to-date!\n",
            "[nltk_data] Downloading package wordnet to /root/nltk_data...\n",
            "[nltk_data]   Package wordnet is already up-to-date!\n"
          ]
        }
      ]
    },
    {
      "cell_type": "code",
      "source": [
        "# Function to preprocess text\n",
        "def preprocess_text(text):\n",
        "    # Lowercase the text\n",
        "    text = text.lower()\n",
        "    # Remove punctuation and non-alphabetic characters\n",
        "    text = re.sub(r'[^a-z\\s]', '', text)\n",
        "    # Tokenize the text\n",
        "    tokens = word_tokenize(text)\n",
        "    # Remove stop words\n",
        "    stop_words = set(stopwords.words('english'))\n",
        "    tokens = [word for word in tokens if word not in stop_words]\n",
        "    # Lemmatization\n",
        "    lemmatizer = WordNetLemmatizer()\n",
        "    tokens = [lemmatizer.lemmatize(word) for word in tokens]\n",
        "    return tokens"
      ],
      "metadata": {
        "id": "HDp6LnCqRv_A"
      },
      "execution_count": null,
      "outputs": []
    },
    {
      "cell_type": "code",
      "source": [
        "# Apply preprocessing to all documents\n",
        "processed_documents = [preprocess_text(doc) for doc in documents]"
      ],
      "metadata": {
        "id": "lnPd59qGR6nc"
      },
      "execution_count": null,
      "outputs": []
    },
    {
      "cell_type": "code",
      "source": [
        "# Step 3: Topic Modeling with LDA\n",
        "# Install necessary libraries (Colab-specific)\n",
        "import gensim\n",
        "from gensim import corpora\n",
        "import pyLDAvis.gensim\n",
        "from IPython.display import display"
      ],
      "metadata": {
        "id": "5f2UMxdZSJVu"
      },
      "execution_count": null,
      "outputs": []
    },
    {
      "cell_type": "code",
      "source": [
        "# Create a dictionary and corpus for LDA\n",
        "dictionary = corpora.Dictionary(processed_documents)\n",
        "corpus = [dictionary.doc2bow(doc) for doc in processed_documents]"
      ],
      "metadata": {
        "colab": {
          "base_uri": "https://localhost:8080/"
        },
        "id": "-Z2ZC-3LSM60",
        "outputId": "b6dd6051-eb25-4e89-8de2-6afd8a1db0af"
      },
      "execution_count": null,
      "outputs": [
        {
          "output_type": "stream",
          "name": "stderr",
          "text": [
            "/usr/local/lib/python3.10/dist-packages/ipykernel/ipkernel.py:283: DeprecationWarning: `should_run_async` will not call `transform_cell` automatically in the future. Please pass the result to `transformed_cell` argument and any exception that happen during thetransform in `preprocessing_exc_tuple` in IPython 7.17 and above.\n",
            "  and should_run_async(code)\n"
          ]
        }
      ]
    },
    {
      "cell_type": "code",
      "source": [
        "# Apply LDA\n",
        "lda_model = gensim.models.LdaModel(corpus, num_topics=5, id2word=dictionary, passes=15)"
      ],
      "metadata": {
        "colab": {
          "base_uri": "https://localhost:8080/"
        },
        "id": "ycs3pwzsSTXQ",
        "outputId": "bf1281cb-5b00-44c7-a997-9a6d38be80da"
      },
      "execution_count": null,
      "outputs": [
        {
          "output_type": "stream",
          "name": "stderr",
          "text": [
            "/usr/local/lib/python3.10/dist-packages/ipykernel/ipkernel.py:283: DeprecationWarning: `should_run_async` will not call `transform_cell` automatically in the future. Please pass the result to `transformed_cell` argument and any exception that happen during thetransform in `preprocessing_exc_tuple` in IPython 7.17 and above.\n",
            "  and should_run_async(code)\n"
          ]
        }
      ]
    },
    {
      "cell_type": "code",
      "source": [
        "# Print the top words in each topic\n",
        "for idx, topic in lda_model.print_topics(-1):\n",
        "    print(f'Topic: {idx} \\nWords: {topic}\\n')"
      ],
      "metadata": {
        "colab": {
          "base_uri": "https://localhost:8080/"
        },
        "id": "ZBrItlAHTE1o",
        "outputId": "33c615d3-64dc-4ae6-e026-02214a71bb41"
      },
      "execution_count": null,
      "outputs": [
        {
          "output_type": "stream",
          "name": "stdout",
          "text": [
            "Topic: 0 \n",
            "Words: 0.017*\"x\" + 0.012*\"file\" + 0.009*\"image\" + 0.008*\"window\" + 0.006*\"program\" + 0.004*\"use\" + 0.004*\"line\" + 0.004*\"version\" + 0.004*\"software\" + 0.004*\"system\"\n",
            "\n",
            "Topic: 1 \n",
            "Words: 0.009*\"line\" + 0.008*\"subject\" + 0.008*\"organization\" + 0.008*\"writes\" + 0.006*\"article\" + 0.006*\"game\" + 0.006*\"would\" + 0.005*\"year\" + 0.005*\"think\" + 0.005*\"dont\"\n",
            "\n",
            "Topic: 2 \n",
            "Words: 0.009*\"god\" + 0.007*\"people\" + 0.007*\"one\" + 0.006*\"would\" + 0.005*\"say\" + 0.004*\"subject\" + 0.004*\"line\" + 0.004*\"writes\" + 0.004*\"u\" + 0.004*\"christian\"\n",
            "\n",
            "Topic: 3 \n",
            "Words: 0.014*\"line\" + 0.013*\"subject\" + 0.012*\"organization\" + 0.006*\"university\" + 0.006*\"writes\" + 0.006*\"nntppostinghost\" + 0.005*\"one\" + 0.005*\"would\" + 0.005*\"article\" + 0.005*\"like\"\n",
            "\n",
            "Topic: 4 \n",
            "Words: 0.005*\"would\" + 0.005*\"one\" + 0.004*\"subject\" + 0.004*\"organization\" + 0.004*\"line\" + 0.004*\"key\" + 0.004*\"use\" + 0.004*\"u\" + 0.004*\"people\" + 0.003*\"article\"\n",
            "\n"
          ]
        },
        {
          "output_type": "stream",
          "name": "stderr",
          "text": [
            "/usr/local/lib/python3.10/dist-packages/ipykernel/ipkernel.py:283: DeprecationWarning: `should_run_async` will not call `transform_cell` automatically in the future. Please pass the result to `transformed_cell` argument and any exception that happen during thetransform in `preprocessing_exc_tuple` in IPython 7.17 and above.\n",
            "  and should_run_async(code)\n"
          ]
        }
      ]
    },
    {
      "cell_type": "code",
      "source": [
        "# Visualize the topics using pyLDAvis\n",
        "lda_vis = pyLDAvis.gensim.prepare(lda_model, corpus, dictionary)"
      ],
      "metadata": {
        "colab": {
          "base_uri": "https://localhost:8080/"
        },
        "id": "vNgufFRfTMZ5",
        "outputId": "ab2a9306-3840-416f-9394-d9a8291c3b0c"
      },
      "execution_count": null,
      "outputs": [
        {
          "output_type": "stream",
          "name": "stderr",
          "text": [
            "/usr/local/lib/python3.10/dist-packages/ipykernel/ipkernel.py:283: DeprecationWarning: `should_run_async` will not call `transform_cell` automatically in the future. Please pass the result to `transformed_cell` argument and any exception that happen during thetransform in `preprocessing_exc_tuple` in IPython 7.17 and above.\n",
            "  and should_run_async(code)\n"
          ]
        }
      ]
    },
    {
      "cell_type": "code",
      "source": [
        "# Show pyLDAvis visualization in Colab\n",
        "pyLDAvis.display(lda_vis)"
      ],
      "metadata": {
        "colab": {
          "base_uri": "https://localhost:8080/",
          "height": 916
        },
        "id": "YynwIbR6TXYM",
        "outputId": "17102222-ee41-40f6-bda0-11337cf795bb"
      },
      "execution_count": null,
      "outputs": [
        {
          "output_type": "stream",
          "name": "stderr",
          "text": [
            "/usr/local/lib/python3.10/dist-packages/ipykernel/ipkernel.py:283: DeprecationWarning: `should_run_async` will not call `transform_cell` automatically in the future. Please pass the result to `transformed_cell` argument and any exception that happen during thetransform in `preprocessing_exc_tuple` in IPython 7.17 and above.\n",
            "  and should_run_async(code)\n"
          ]
        },
        {
          "output_type": "execute_result",
          "data": {
            "text/plain": [
              "<IPython.core.display.HTML object>"
            ],
            "text/html": [
              "\n",
              "<link rel=\"stylesheet\" type=\"text/css\" href=\"https://cdn.jsdelivr.net/gh/bmabey/pyLDAvis@3.4.0/pyLDAvis/js/ldavis.v1.0.0.css\">\n",
              "\n",
              "\n",
              "<div id=\"ldavis_el54671343258655372483015754897\" style=\"background-color:white;\"></div>\n",
              "<script type=\"text/javascript\">\n",
              "\n",
              "var ldavis_el54671343258655372483015754897_data = {\"mdsDat\": {\"x\": [0.03344876234510576, -0.13068849336473207, -0.026751820308991116, -0.11663487557190055, 0.24062642690051814], \"y\": [0.1130588813396988, -0.11764867876253272, -0.07618065818065978, 0.11372764235937337, -0.032957186755879615], \"topics\": [1, 2, 3, 4, 5], \"cluster\": [1, 1, 1, 1, 1], \"Freq\": [24.94013975020069, 24.16559742873116, 21.595490541193634, 18.34005777945479, 10.958714500419724]}, \"tinfo\": {\"Term\": [\"x\", \"god\", \"file\", \"image\", \"window\", \"game\", \"program\", \"drive\", \"team\", \"christian\", \"maxaxaxaxaxaxaxaxaxaxaxaxaxaxax\", \"car\", \"software\", \"key\", \"use\", \"people\", \"version\", \"jesus\", \"available\", \"graphic\", \"organization\", \"player\", \"system\", \"gun\", \"armenian\", \"line\", \"application\", \"ftp\", \"government\", \"server\", \"scsi\", \"bike\", \"mhz\", \"controller\", \"pin\", \"db\", \"ide\", \"dx\", \"meg\", \"bmw\", \"com\", \"motorcycle\", \"hd\", \"bios\", \"motherboard\", \"nec\", \"ford\", \"riding\", \"simms\", \"tire\", \"jumper\", \"duo\", \"connector\", \"ethernet\", \"quadra\", \"wiring\", \"irq\", \"ati\", \"diamond\", \"brake\", \"drive\", \"apple\", \"modem\", \"dod\", \"upgrade\", \"car\", \"mb\", \"monitor\", \"ride\", \"ram\", \"driver\", \"sale\", \"card\", \"disk\", \"cpu\", \"circuit\", \"thanks\", \"engine\", \"speed\", \"port\", \"mac\", \"price\", \"cd\", \"line\", \"organization\", \"subject\", \"nntppostinghost\", \"anyone\", \"university\", \"email\", \"ive\", \"computer\", \"distribution\", \"problem\", \"please\", \"im\", \"writes\", \"get\", \"like\", \"know\", \"article\", \"one\", \"would\", \"system\", \"work\", \"need\", \"new\", \"dont\", \"use\", \"also\", \"god\", \"christian\", \"maxaxaxaxaxaxaxaxaxaxaxaxaxaxax\", \"jesus\", \"armenian\", \"jew\", \"church\", \"religion\", \"bible\", \"christ\", \"atheist\", \"israeli\", \"muslim\", \"turkish\", \"jewish\", \"arab\", \"religious\", \"christianity\", \"israel\", \"moral\", \"turkey\", \"scripture\", \"palestinian\", \"homosexuality\", \"village\", \"morality\", \"armenia\", \"catholic\", \"islamic\", \"nazi\", \"turk\", \"lord\", \"sin\", \"belief\", \"greek\", \"faith\", \"truth\", \"father\", \"war\", \"people\", \"life\", \"word\", \"say\", \"one\", \"said\", \"believe\", \"u\", \"would\", \"child\", \"human\", \"right\", \"think\", \"know\", \"dont\", \"writes\", \"subject\", \"way\", \"article\", \"many\", \"even\", \"line\", \"time\", \"like\", \"organization\", \"see\", \"thing\", \"also\", \"encryption\", \"firearm\", \"patient\", \"orbit\", \"ripem\", \"privacy\", \"nsa\", \"amendment\", \"enforcement\", \"escrow\", \"shuttle\", \"crypto\", \"spacecraft\", \"msg\", \"cancer\", \"wiretap\", \"handgun\", \"infection\", \"cryptography\", \"cipher\", \"encrypted\", \"sternlight\", \"physician\", \"yeast\", \"hiv\", \"cdc\", \"venus\", \"candida\", \"vitamin\", \"ban\", \"clipper\", \"launch\", \"disease\", \"drug\", \"pgp\", \"nuclear\", \"gun\", \"health\", \"medical\", \"mission\", \"moon\", \"key\", \"satellite\", \"administration\", \"nasa\", \"space\", \"security\", \"government\", \"weapon\", \"agency\", \"public\", \"law\", \"chip\", \"food\", \"use\", \"information\", \"u\", \"would\", \"system\", \"state\", \"one\", \"may\", \"people\", \"number\", \"organization\", \"subject\", \"also\", \"article\", \"line\", \"writes\", \"could\", \"time\", \"used\", \"make\", \"like\", \"get\", \"new\", \"dont\", \"year\", \"right\", \"hockey\", \"season\", \"league\", \"baseball\", \"nhl\", \"playoff\", \"batf\", \"stephanopoulos\", \"kinsey\", \"atf\", \"myers\", \"pitcher\", \"detroit\", \"ranger\", \"espn\", \"clayton\", \"cramer\", \"morris\", \"cal\", \"stanley\", \"shark\", \"hitter\", \"traded\", \"bruin\", \"inning\", \"pitching\", \"cub\", \"defensive\", \"henryzootorontoedu\", \"penguin\", \"team\", \"det\", \"player\", \"game\", \"cup\", \"bd\", \"score\", \"waco\", \"fan\", \"pen\", \"wing\", \"play\", \"he\", \"goal\", \"hit\", \"leaf\", \"win\", \"fbi\", \"toronto\", \"year\", \"shot\", \"writes\", \"last\", \"go\", \"q\", \"guy\", \"article\", \"think\", \"line\", \"organization\", \"subject\", \"dont\", \"would\", \"nntppostinghost\", \"university\", \"get\", \"going\", \"first\", \"time\", \"like\", \"one\", \"im\", \"good\", \"well\", \"know\", \"see\", \"people\", \"say\", \"make\", \"widget\", \"client\", \"jpeg\", \"gif\", \"xr\", \"xterm\", \"xv\", \"tiff\", \"polygon\", \"bitmap\", \"ftp\", \"animation\", \"xlib\", \"openwindows\", \"plplot\", \"xview\", \"pixmap\", \"font\", \"bmp\", \"compile\", \"char\", \"readme\", \"xfree\", \"xwindows\", \"sparc\", \"colormap\", \"gui\", \"graphical\", \"wolverine\", \"functionality\", \"directory\", \"image\", \"x\", \"file\", \"format\", \"server\", \"motif\", \"viewer\", \"shareware\", \"postscript\", \"display\", \"visual\", \"graphic\", \"entry\", \"processing\", \"library\", \"application\", \"window\", \"program\", \"color\", \"code\", \"available\", \"user\", \"software\", \"version\", \"function\", \"package\", \"tool\", \"data\", \"sun\", \"use\", \"system\", \"using\", \"bit\", \"set\", \"c\", \"line\", \"also\", \"subject\", \"get\", \"information\"], \"Freq\": [5909.0, 6052.0, 4304.0, 2948.0, 4154.0, 3358.0, 3621.0, 3115.0, 2304.0, 2548.0, 2296.0, 2858.0, 2606.0, 2727.0, 6454.0, 9379.0, 2720.0, 1786.0, 2396.0, 1424.0, 18575.0, 1542.0, 6251.0, 1970.0, 1666.0, 20996.0, 1559.0, 1051.0, 2961.0, 1108.0, 1145.5640668763801, 1143.42728144029, 675.8315127604512, 672.5776306809553, 629.8674653912524, 602.9757497755381, 508.8783445762171, 495.0312542158698, 471.8752341901958, 391.46810525334337, 396.5795508655086, 366.48834270411334, 347.19320616933203, 339.16387285374395, 334.44594659730564, 328.1336879378416, 310.95163286861, 305.29568573209906, 299.5550606549714, 302.49876352913265, 284.8736072539784, 270.8607981295706, 266.4084232326964, 265.68727068979933, 256.86958177550514, 261.623377532338, 253.19021969569988, 251.92517181465266, 249.98811427848665, 240.95899179980393, 3040.031295395604, 886.150321638451, 735.0258455846117, 797.2694621958079, 403.80604282261584, 2690.7531640643538, 1135.8439339407962, 995.5088196594762, 416.124666045522, 607.5565525339647, 1560.733467089717, 1430.845574730999, 2133.5827662926326, 1491.8168692268023, 558.3435561867227, 458.2190297725075, 2360.6114529995307, 680.2804595698751, 1066.061618578849, 763.9887531094708, 1170.07029349208, 1379.3185775488646, 697.0651700394566, 9784.558237215591, 8837.749245934427, 9192.361983009667, 4160.390140263981, 2496.715889307744, 4311.259767280052, 1927.604375992094, 1886.6372259470872, 2099.4595838124137, 2337.6700228870563, 2432.785235611558, 1930.9035339095005, 2720.38371252313, 4242.108387232737, 3336.3488200953852, 3410.3195894264786, 3295.6525725708407, 3565.881850102556, 3905.5227078802527, 3780.3844724898604, 2498.645986154148, 2163.0756895820628, 2047.9762320363538, 2264.7768435818016, 2446.5084549583053, 2162.1051227741846, 1916.2525570420596, 6051.9261026197, 2548.182515791986, 2295.501510890212, 1785.5287621058299, 1665.3531948792456, 1580.219308719185, 1490.1143278187537, 1394.0646110992402, 1340.3959074983954, 1133.9334453056072, 1124.687986834762, 1078.9124354236956, 998.9785930544662, 899.2595343698148, 905.1341920117391, 893.4515522652327, 869.8356116391251, 715.0287055047523, 1508.1003578239713, 740.3739973096075, 538.4459577474993, 498.96152278723724, 493.35271663472827, 485.47001541009826, 484.2543008130644, 503.93869367013576, 456.5199507813712, 449.9151838532634, 449.03390014097937, 425.11338274374356, 567.2524633820944, 820.1277428143022, 955.9533467973453, 1259.8337919917544, 785.9271619041433, 925.6754424881314, 892.7705382106768, 615.279630676012, 1166.911992430503, 5139.365649210045, 1590.9719745979482, 1608.747040934588, 3158.23759556897, 4969.767062720359, 2077.6112018609315, 1878.1303084482306, 2699.0498941568026, 3846.0335973691535, 1425.8225827130796, 1237.6334305442404, 2121.748463215939, 2364.6371568193335, 2518.6816285892733, 2466.034203024561, 2707.3755056641185, 3119.904427587326, 1922.2810183320337, 2491.967341365207, 1847.0003669261016, 1849.7621762432336, 2830.436673484942, 2041.1966366439792, 2132.48055122534, 2407.4470645852566, 1813.7000272929145, 1802.8298893252734, 1726.3537771307344, 1043.958442420996, 662.5586381953177, 555.1730506382747, 539.3747324662647, 492.1338067016827, 482.7627771024293, 430.6728959241695, 393.4670790644371, 390.59504919108207, 351.7018301644888, 376.0937942842025, 340.5094241541657, 333.5793249215709, 328.6153637867768, 315.2388264609752, 291.56241729540267, 270.8784012460911, 262.406819916456, 253.2058192350759, 231.22381683410927, 221.72362752036324, 214.8603163127794, 201.69487620532524, 178.8671093510498, 172.22108547144856, 169.5940898210197, 166.43534203324793, 164.10706442205483, 155.35868383320798, 155.81595555783545, 999.3692365459121, 522.285903133475, 612.0781131232557, 1089.629360904956, 462.9805984878584, 348.9158464350096, 1815.6820893968995, 779.4559264980599, 736.51871970666, 559.5013128531683, 539.4766339786797, 2344.2496868285543, 452.63721488328366, 461.3242916670595, 612.3081969644314, 1819.6983483664983, 775.2630865062372, 1937.5852578224913, 821.4834405693924, 558.735259636214, 1374.4199430573833, 1498.2134478873488, 1130.7291549193892, 546.0957797506546, 2271.6465787077586, 1420.3312984313825, 2244.0334770110558, 3350.3589753814204, 1979.499757143643, 1564.4476209835275, 3028.76315972144, 1731.4757474631526, 2194.570808680054, 1228.447166806236, 2576.4501835048354, 2663.971528245302, 1667.409633117084, 2017.5947778225448, 2561.842972744727, 1897.8120296425025, 1398.3999209913793, 1508.5497001960282, 1229.0696529190207, 1375.4134013546186, 1551.585659145818, 1469.52073315112, 1366.6279344071681, 1420.5681877732097, 1314.7675578785393, 1306.8411767899283, 946.9346006200461, 889.3446473463513, 764.5589858042986, 655.5060075446349, 586.0284029246591, 530.3441187028342, 471.3365958083937, 466.10498273970364, 394.09643638853316, 368.91887386402084, 368.34352708229295, 362.43044395693386, 357.8487898334369, 335.42868013217213, 331.567754298861, 308.0033454840791, 283.72715446051575, 268.04636459878157, 235.8547360852168, 242.2434832811228, 230.5466816714684, 212.08014047125388, 214.1554930156029, 206.80754758637124, 205.38765690326824, 204.70872310679115, 216.75182414592848, 201.06164243584706, 196.53200470319615, 192.2482766102482, 2292.064264841382, 248.35291905916137, 1489.405855116378, 3176.4700604015648, 436.9822290584115, 330.1693372853833, 419.7102664086105, 489.0075045007532, 933.1287372624005, 328.6724826339097, 451.505869421656, 1036.1366238965318, 737.1317143756953, 676.1013010946947, 735.4874184650623, 449.4451042162292, 933.1859184012739, 726.8254596872866, 575.8118549906764, 2611.5681207675316, 605.6942262850978, 4071.6628011272655, 1428.2153961316276, 1991.0503298230346, 943.7020832059335, 843.161409001446, 3240.6907508360264, 2477.398542455606, 4514.052736568058, 4175.80355064714, 4182.071587229182, 2430.929582871621, 2978.6464382958834, 2068.5784854305107, 2240.131247784932, 2177.395299438118, 1249.0400805399179, 1460.8649656369432, 1792.4641695621847, 1979.4134146964582, 2219.7705813595394, 1581.326564863359, 1523.9036665943079, 1495.590026028073, 1649.895604226205, 1217.3900127480692, 1340.8808596626675, 1211.32229460737, 1190.3750603703095, 639.7489743910039, 512.6318716981726, 447.7425742678231, 415.08358951869974, 406.80531026167097, 341.7441104825307, 254.80478230976945, 227.95169927695, 222.67318764760742, 216.5566015516178, 1046.715275482425, 178.57402627125697, 172.61775133127261, 163.38912285275495, 143.1666613322762, 138.25737787248858, 131.063095575635, 745.053289217533, 129.0520603664667, 128.61718857184187, 125.9431132549123, 122.9370081287934, 121.80696786478782, 115.45747410900779, 109.54083149617841, 108.4626485019566, 106.25773176465059, 103.72322836972494, 100.3319227410447, 101.81257362486176, 670.2550833682118, 2807.0425736103643, 5440.761141390208, 3939.5979978634778, 963.0159153127282, 1045.2381423694771, 543.0035522303654, 242.39774222600724, 219.86655758085155, 289.78564278901257, 1001.1645697911462, 227.43702092597533, 1096.540871855602, 381.59580693106994, 424.7903960311321, 693.1838220454823, 1080.4171001910327, 2415.5609304285294, 2007.8383912632657, 962.4925297899939, 914.3081434457083, 1223.5746134820931, 983.5451484964691, 1239.8268985931404, 1242.6963709269633, 526.568379773244, 624.6883594200248, 553.7894969541745, 986.5358599307428, 653.0088580681953, 1349.8006087866104, 1226.7903887737493, 910.7445956313649, 914.3294521360906, 834.6206218490526, 915.9222400030444, 1305.885749212506, 916.7214628488651, 1054.3078557786007, 830.9547188426313, 742.5799380900924], \"Total\": [5909.0, 6052.0, 4304.0, 2948.0, 4154.0, 3358.0, 3621.0, 3115.0, 2304.0, 2548.0, 2296.0, 2858.0, 2606.0, 2727.0, 6454.0, 9379.0, 2720.0, 1786.0, 2396.0, 1424.0, 18575.0, 1542.0, 6251.0, 1970.0, 1666.0, 20996.0, 1559.0, 1051.0, 2961.0, 1108.0, 1146.3493707515686, 1144.2148124928106, 676.6196251839276, 673.3679172515047, 630.6630677748306, 603.7672609288234, 509.6634958977198, 495.81803782608347, 472.6670412792558, 392.2555051353117, 397.38231344133715, 367.2793678003126, 347.98988652138326, 339.95067933307735, 335.23143330632877, 328.92549311406367, 311.755657660087, 306.0930710637146, 300.3402183885192, 303.2955279494905, 285.6613216229715, 271.649936729169, 267.1939320745177, 266.4878014879438, 257.65531046868347, 262.43193208216246, 253.97585210055848, 252.71753035200808, 250.7820274692182, 241.74887826200276, 3115.4136818267216, 896.9286164154227, 743.7379447218617, 809.0894673440546, 408.03096505359133, 2858.411476582671, 1187.1088270341127, 1048.0229230927118, 423.76971345434396, 630.5282273144659, 1702.234189594554, 1554.196170391335, 2371.1347995265455, 1695.448833497951, 587.659541488436, 473.47306504333073, 2936.659519937979, 744.0829498875648, 1248.8050625896815, 858.798934403828, 1417.9578628555773, 1722.4364623098297, 780.6707867077221, 20996.776369225827, 18575.017541832203, 20212.617381850076, 7855.892984996245, 4171.447692134161, 9300.164312952347, 3168.5761759677807, 3219.1463429000014, 3820.9261903430142, 4558.690710542363, 5026.737362940382, 3594.492054312584, 6269.405883326669, 12989.23666283495, 8808.066335617672, 9477.935574546264, 8994.883078207675, 11514.535049972566, 14750.820043139474, 14226.976969964799, 6251.7138952899395, 4904.8736950127695, 4742.358555002157, 6152.778970841304, 9061.03441561226, 6454.555246432521, 7064.7563487175175, 6052.723771556708, 2548.981537600196, 2296.289395813317, 1786.3212466813109, 1666.141533413447, 1581.008563378305, 1490.911050756295, 1394.8565999319487, 1341.1885530477157, 1134.7248472220206, 1125.4799612608222, 1079.7049364921886, 999.7675400882765, 900.0479345577602, 905.9298784249011, 894.2403310211564, 870.6297416756336, 715.8181210897508, 1510.0904947805457, 741.4109649233623, 539.2399983768835, 499.7518188382102, 494.142037561205, 486.26078885839735, 485.05009510769383, 504.793938988259, 457.3083713469533, 450.70457424169285, 449.82507296755756, 425.9050078125784, 568.6826126604017, 827.0610015981821, 967.3473965581283, 1317.872469381985, 808.0608816313498, 963.56772986351, 976.9446263428687, 636.9296868126597, 1341.4337211225295, 9379.38927368187, 2286.438709167616, 2418.2053245116563, 6290.588899689011, 14750.820043139474, 3875.089084505921, 3330.0571645932473, 6569.135820116507, 14226.976969964799, 2189.7642550391242, 1689.7137494916199, 5424.227039864297, 7511.118043682908, 8994.883078207675, 9061.03441561226, 12989.23666283495, 20212.617381850076, 5338.8467509005, 11514.535049972566, 4817.49732225387, 5081.227534603664, 20996.776369225827, 7481.751292705169, 9477.935574546264, 18575.017541832203, 4956.153086441909, 5271.860756092475, 7064.7563487175175, 1044.7536730526988, 663.357208394225, 555.9838689711047, 540.1730779041345, 492.94115927267245, 483.56367636226065, 431.4679930015295, 394.26812749424414, 391.392991270961, 352.49574676044614, 376.9514359200216, 341.3045794168785, 334.3752483346317, 329.46507707844466, 316.0715046577603, 292.35645468256223, 271.67509576258277, 263.2020886354808, 254.00215885150433, 232.02310162504517, 222.51968995753072, 215.6546173058045, 202.49271491679406, 179.66238359644652, 173.0152721102315, 170.40474182940218, 167.23320244578127, 164.9010224805691, 156.15316585374688, 156.61746913194762, 1006.4907744930439, 530.3083003161123, 624.5698465012504, 1145.6591376464248, 477.4679334352064, 357.38639567061705, 1970.1284437464012, 822.766410025595, 778.4941893192031, 586.2236942624969, 565.2740384744803, 2727.690831794166, 472.96425048527743, 485.87745417452027, 671.0814785408037, 2374.402327304892, 916.0260982782738, 2961.0034532078153, 1023.5346386339302, 642.173012857322, 2090.2742230653794, 2856.9147604713926, 1991.9241613275587, 656.7635721076764, 6454.555246432521, 3071.8982647429184, 6569.135820116507, 14226.976969964799, 6251.7138952899395, 4165.8843644118815, 14750.820043139474, 5265.221719747476, 9379.38927368187, 3443.6805735405196, 18575.017541832203, 20212.617381850076, 7064.7563487175175, 11514.535049972566, 20996.776369225827, 12989.23666283495, 5523.552210412565, 7481.751292705169, 3929.867764534125, 5964.189957734325, 9477.935574546264, 8808.066335617672, 6152.778970841304, 9061.03441561226, 5666.030742598083, 5424.227039864297, 947.7294662893837, 890.1635674905774, 765.3966798780049, 656.3026782186624, 586.8229041590652, 531.1383880833068, 472.13755424094643, 466.90207943373747, 394.9465087974735, 369.71934661597817, 369.14613805752316, 363.2248228542063, 358.6452557829278, 336.2315384090774, 332.3620421805151, 308.80710811743734, 284.5287435717277, 268.8599956772473, 236.65784173799292, 243.07953664481826, 231.34363357825328, 212.87494705771348, 214.96016959722633, 207.60209344317818, 206.18211848758725, 205.502960726093, 217.59609173810557, 201.86689315995685, 197.34535591459715, 193.04926128667032, 2304.0501811813583, 249.94144812596647, 1542.1707754376525, 3358.9593578859804, 446.56751734553524, 334.82425616244564, 429.96506280112607, 512.6664379378275, 1053.4293761202428, 342.4886506200802, 491.84806925625014, 1275.583706101874, 865.2667078995022, 796.4283302502299, 887.3527175080549, 499.431689804456, 1238.032327769074, 913.2346657736767, 703.426219923689, 5666.030742598083, 765.3608027436774, 12989.23666283495, 2795.5857656374633, 4729.194252396655, 1547.7202539321743, 1317.6004718142544, 11514.535049972566, 7511.118043682908, 20996.776369225827, 18575.017541832203, 20212.617381850076, 9061.03441561226, 14226.976969964799, 7855.892984996245, 9300.164312952347, 8808.066335617672, 3003.8144375551046, 4609.0693385012955, 7481.751292705169, 9477.935574546264, 14750.820043139474, 6269.405883326669, 5719.768987560227, 5476.732415340863, 8994.883078207675, 4956.153086441909, 9379.38927368187, 6290.588899689011, 5964.189957734325, 640.53142291319, 513.4292290656158, 448.52425728123984, 415.86959686278357, 407.5903376712835, 342.52644891612294, 255.59182930127795, 228.73732588171168, 223.45819173781265, 217.34015750247147, 1051.0833962932195, 179.36017309637256, 173.39999570774836, 164.17113396073788, 143.9505963234542, 139.03923188002292, 131.84499780395672, 749.5584208693049, 129.83528913325833, 129.40591315159855, 126.73053215302231, 123.72337846554615, 122.58995025721474, 116.24229471998655, 110.32668883022947, 109.24446565910553, 107.04400416695336, 104.51009763392824, 101.11415462790323, 102.60730690312505, 678.3284836556749, 2948.018261020413, 5909.734432223278, 4304.917993707456, 1018.0029524985773, 1108.1540428839492, 597.5385296431218, 256.03958843993405, 230.65678661843324, 310.54860579162016, 1214.1191878478912, 241.18100481967107, 1424.5066568579566, 436.67462958720455, 498.4095645051043, 888.5373527524002, 1559.7569095918238, 4154.956361602174, 3621.116930161288, 1493.9534666693435, 1528.180789697502, 2396.8813433967325, 1857.6725789779334, 2606.1832509101964, 2720.3312320803507, 794.8094409392739, 1077.2236829926055, 869.5581441017629, 2666.9936199318254, 1246.6963612855416, 6454.555246432521, 6251.7138952899395, 3018.327752010816, 3052.2751084501006, 2439.2572997175535, 3330.8444303896545, 20996.776369225827, 7064.7563487175175, 20212.617381850076, 8808.066335617672, 3071.8982647429184], \"Category\": [\"Default\", \"Default\", \"Default\", \"Default\", \"Default\", \"Default\", \"Default\", \"Default\", \"Default\", \"Default\", \"Default\", \"Default\", \"Default\", \"Default\", \"Default\", \"Default\", \"Default\", \"Default\", \"Default\", \"Default\", \"Default\", \"Default\", \"Default\", \"Default\", \"Default\", \"Default\", \"Default\", \"Default\", \"Default\", \"Default\", \"Topic1\", \"Topic1\", \"Topic1\", \"Topic1\", \"Topic1\", \"Topic1\", \"Topic1\", \"Topic1\", \"Topic1\", \"Topic1\", \"Topic1\", \"Topic1\", \"Topic1\", \"Topic1\", \"Topic1\", \"Topic1\", \"Topic1\", \"Topic1\", \"Topic1\", \"Topic1\", \"Topic1\", \"Topic1\", \"Topic1\", \"Topic1\", \"Topic1\", \"Topic1\", \"Topic1\", \"Topic1\", \"Topic1\", \"Topic1\", \"Topic1\", \"Topic1\", \"Topic1\", \"Topic1\", \"Topic1\", \"Topic1\", \"Topic1\", \"Topic1\", \"Topic1\", \"Topic1\", \"Topic1\", \"Topic1\", \"Topic1\", \"Topic1\", \"Topic1\", \"Topic1\", \"Topic1\", \"Topic1\", \"Topic1\", \"Topic1\", \"Topic1\", \"Topic1\", \"Topic1\", \"Topic1\", \"Topic1\", \"Topic1\", \"Topic1\", \"Topic1\", \"Topic1\", \"Topic1\", \"Topic1\", \"Topic1\", \"Topic1\", \"Topic1\", \"Topic1\", \"Topic1\", \"Topic1\", \"Topic1\", \"Topic1\", \"Topic1\", \"Topic1\", \"Topic1\", \"Topic1\", \"Topic1\", \"Topic1\", \"Topic1\", \"Topic1\", \"Topic1\", \"Topic1\", \"Topic1\", \"Topic2\", \"Topic2\", \"Topic2\", \"Topic2\", \"Topic2\", \"Topic2\", \"Topic2\", \"Topic2\", \"Topic2\", \"Topic2\", \"Topic2\", \"Topic2\", \"Topic2\", \"Topic2\", \"Topic2\", \"Topic2\", \"Topic2\", \"Topic2\", \"Topic2\", \"Topic2\", \"Topic2\", \"Topic2\", \"Topic2\", \"Topic2\", \"Topic2\", \"Topic2\", \"Topic2\", \"Topic2\", \"Topic2\", \"Topic2\", \"Topic2\", \"Topic2\", \"Topic2\", \"Topic2\", \"Topic2\", \"Topic2\", \"Topic2\", \"Topic2\", \"Topic2\", \"Topic2\", \"Topic2\", \"Topic2\", \"Topic2\", \"Topic2\", \"Topic2\", \"Topic2\", \"Topic2\", \"Topic2\", \"Topic2\", \"Topic2\", \"Topic2\", \"Topic2\", \"Topic2\", \"Topic2\", \"Topic2\", \"Topic2\", \"Topic2\", \"Topic2\", \"Topic2\", \"Topic2\", \"Topic2\", \"Topic2\", \"Topic2\", \"Topic2\", \"Topic2\", \"Topic2\", \"Topic2\", \"Topic3\", \"Topic3\", \"Topic3\", \"Topic3\", \"Topic3\", \"Topic3\", \"Topic3\", \"Topic3\", \"Topic3\", \"Topic3\", \"Topic3\", \"Topic3\", \"Topic3\", \"Topic3\", \"Topic3\", \"Topic3\", \"Topic3\", \"Topic3\", \"Topic3\", \"Topic3\", \"Topic3\", \"Topic3\", \"Topic3\", \"Topic3\", \"Topic3\", \"Topic3\", \"Topic3\", \"Topic3\", \"Topic3\", \"Topic3\", \"Topic3\", \"Topic3\", \"Topic3\", \"Topic3\", \"Topic3\", \"Topic3\", \"Topic3\", \"Topic3\", \"Topic3\", \"Topic3\", \"Topic3\", \"Topic3\", \"Topic3\", \"Topic3\", \"Topic3\", \"Topic3\", \"Topic3\", \"Topic3\", \"Topic3\", \"Topic3\", \"Topic3\", \"Topic3\", \"Topic3\", \"Topic3\", \"Topic3\", \"Topic3\", \"Topic3\", \"Topic3\", \"Topic3\", \"Topic3\", \"Topic3\", \"Topic3\", \"Topic3\", \"Topic3\", \"Topic3\", \"Topic3\", \"Topic3\", \"Topic3\", \"Topic3\", \"Topic3\", \"Topic3\", \"Topic3\", \"Topic3\", \"Topic3\", \"Topic3\", \"Topic3\", \"Topic3\", \"Topic3\", \"Topic3\", \"Topic3\", \"Topic4\", \"Topic4\", \"Topic4\", \"Topic4\", \"Topic4\", \"Topic4\", \"Topic4\", \"Topic4\", \"Topic4\", \"Topic4\", \"Topic4\", \"Topic4\", \"Topic4\", \"Topic4\", \"Topic4\", \"Topic4\", \"Topic4\", \"Topic4\", \"Topic4\", \"Topic4\", \"Topic4\", \"Topic4\", \"Topic4\", \"Topic4\", \"Topic4\", \"Topic4\", \"Topic4\", \"Topic4\", \"Topic4\", \"Topic4\", \"Topic4\", \"Topic4\", \"Topic4\", \"Topic4\", \"Topic4\", \"Topic4\", \"Topic4\", \"Topic4\", \"Topic4\", \"Topic4\", \"Topic4\", \"Topic4\", \"Topic4\", \"Topic4\", \"Topic4\", \"Topic4\", \"Topic4\", \"Topic4\", \"Topic4\", \"Topic4\", \"Topic4\", \"Topic4\", \"Topic4\", \"Topic4\", \"Topic4\", \"Topic4\", \"Topic4\", \"Topic4\", \"Topic4\", \"Topic4\", \"Topic4\", \"Topic4\", \"Topic4\", \"Topic4\", \"Topic4\", \"Topic4\", \"Topic4\", \"Topic4\", \"Topic4\", \"Topic4\", \"Topic4\", \"Topic4\", \"Topic4\", \"Topic4\", \"Topic4\", \"Topic4\", \"Topic4\", \"Topic4\", \"Topic4\", \"Topic5\", \"Topic5\", \"Topic5\", \"Topic5\", \"Topic5\", \"Topic5\", \"Topic5\", \"Topic5\", \"Topic5\", \"Topic5\", \"Topic5\", \"Topic5\", \"Topic5\", \"Topic5\", \"Topic5\", \"Topic5\", \"Topic5\", \"Topic5\", \"Topic5\", \"Topic5\", \"Topic5\", \"Topic5\", \"Topic5\", \"Topic5\", \"Topic5\", \"Topic5\", \"Topic5\", \"Topic5\", \"Topic5\", \"Topic5\", \"Topic5\", \"Topic5\", \"Topic5\", \"Topic5\", \"Topic5\", \"Topic5\", \"Topic5\", \"Topic5\", \"Topic5\", \"Topic5\", \"Topic5\", \"Topic5\", \"Topic5\", \"Topic5\", \"Topic5\", \"Topic5\", \"Topic5\", \"Topic5\", \"Topic5\", \"Topic5\", \"Topic5\", \"Topic5\", \"Topic5\", \"Topic5\", \"Topic5\", \"Topic5\", \"Topic5\", \"Topic5\", \"Topic5\", \"Topic5\", \"Topic5\", \"Topic5\", \"Topic5\", \"Topic5\", \"Topic5\", \"Topic5\", \"Topic5\", \"Topic5\", \"Topic5\", \"Topic5\", \"Topic5\"], \"logprob\": [30.0, 29.0, 28.0, 27.0, 26.0, 25.0, 24.0, 23.0, 22.0, 21.0, 20.0, 19.0, 18.0, 17.0, 16.0, 15.0, 14.0, 13.0, 12.0, 11.0, 10.0, 9.0, 8.0, 7.0, 6.0, 5.0, 4.0, 3.0, 2.0, 1.0, -6.4409, -6.4427, -6.9686, -6.9734, -7.039, -7.0827, -7.2523, -7.2799, -7.3278, -7.5146, -7.5017, -7.5806, -7.6347, -7.658, -7.6721, -7.6911, -7.7449, -7.7633, -7.7822, -7.7725, -7.8325, -7.8829, -7.8995, -7.9022, -7.936, -7.9176, -7.9504, -7.9554, -7.9631, -7.9999, -5.4649, -6.6976, -6.8846, -6.8033, -7.4836, -5.587, -6.4494, -6.5813, -7.4535, -7.0751, -6.1316, -6.2185, -5.819, -6.1768, -7.1596, -7.3572, -5.7179, -6.962, -6.5128, -6.846, -6.4197, -6.2552, -6.9377, -4.296, -4.3977, -4.3584, -5.1512, -5.6618, -5.1155, -5.9205, -5.942, -5.8351, -5.7276, -5.6877, -5.9188, -5.576, -5.1317, -5.3719, -5.35, -5.3842, -5.3054, -5.2144, -5.247, -5.661, -5.8052, -5.8599, -5.7593, -5.6821, -5.8057, -5.9264, -4.7449, -5.6098, -5.7143, -5.9655, -6.0352, -6.0877, -6.1464, -6.213, -6.2523, -6.4195, -6.4277, -6.4693, -6.5463, -6.6514, -6.6449, -6.6579, -6.6847, -6.8807, -6.1344, -6.8458, -7.1643, -7.2405, -7.2518, -7.2679, -7.2704, -7.2305, -7.3294, -7.3439, -7.3459, -7.4006, -7.1122, -6.7435, -6.5903, -6.3142, -6.7861, -6.6225, -6.6587, -7.0309, -6.3909, -4.9083, -6.0809, -6.0698, -5.3952, -4.9419, -5.814, -5.915, -5.5523, -5.1982, -6.1905, -6.332, -5.793, -5.6846, -5.6215, -5.6426, -5.5492, -5.4074, -5.8917, -5.6322, -5.9317, -5.9302, -5.5048, -5.8317, -5.7879, -5.6667, -5.9499, -5.9559, -5.9992, -6.3898, -6.8444, -7.0213, -7.0501, -7.1418, -7.161, -7.2752, -7.3655, -7.3729, -7.4778, -7.4107, -7.5101, -7.5307, -7.5457, -7.5872, -7.6653, -7.7389, -7.7706, -7.8063, -7.8972, -7.9391, -7.9705, -8.0338, -8.1539, -8.1918, -8.2071, -8.2259, -8.24, -8.2948, -8.2919, -6.4334, -7.0823, -6.9237, -6.3469, -7.2029, -7.4857, -5.8363, -6.6819, -6.7386, -7.0135, -7.0499, -5.5808, -7.2254, -7.2064, -6.9233, -5.8341, -6.6873, -5.7713, -6.6294, -7.0149, -6.1148, -6.0285, -6.3099, -7.0377, -5.6123, -6.0819, -5.6245, -5.2237, -5.7499, -5.9853, -5.3246, -5.8838, -5.6468, -6.227, -5.4864, -5.453, -5.9215, -5.7309, -5.4921, -5.7921, -6.0975, -6.0216, -6.2265, -6.114, -5.9935, -6.0478, -6.1204, -6.0817, -6.1591, -6.1652, -6.3239, -6.3867, -6.5378, -6.6917, -6.8038, -6.9036, -7.0216, -7.0327, -7.2005, -7.2666, -7.2681, -7.2843, -7.297, -7.3617, -7.3733, -7.447, -7.5291, -7.586, -7.7139, -7.6872, -7.7367, -7.8202, -7.8104, -7.8454, -7.8522, -7.8556, -7.7984, -7.8735, -7.8963, -7.9184, -5.4399, -7.6623, -5.871, -5.1136, -7.0972, -7.3775, -7.1376, -6.9848, -6.3386, -7.3821, -7.0646, -6.2339, -6.5744, -6.6608, -6.5766, -7.0691, -6.3385, -6.5885, -6.8214, -5.3094, -6.7708, -4.8653, -5.913, -5.5807, -6.3273, -6.44, -5.0936, -5.3622, -4.7622, -4.8401, -4.8386, -5.3811, -5.1779, -5.5425, -5.4629, -5.4913, -6.047, -5.8904, -5.6858, -5.5866, -5.472, -5.8111, -5.8481, -5.8669, -5.7687, -6.0727, -5.9761, -6.0777, -6.0951, -6.2011, -6.4226, -6.558, -6.6337, -6.6539, -6.8281, -7.1217, -7.2331, -7.2565, -7.2843, -5.7088, -7.4772, -7.5111, -7.5661, -7.6982, -7.7331, -7.7865, -6.0487, -7.802, -7.8053, -7.8264, -7.8505, -7.8598, -7.9133, -7.9659, -7.9758, -7.9963, -8.0205, -8.0537, -8.0391, -6.1545, -4.7223, -4.0605, -4.3834, -5.7921, -5.7102, -6.3651, -7.1716, -7.2692, -6.993, -5.7533, -7.2353, -5.6623, -6.7178, -6.6106, -6.1209, -5.6771, -4.8725, -5.0574, -5.7927, -5.844, -5.5527, -5.771, -5.5395, -5.5371, -6.3958, -6.2249, -6.3454, -5.768, -6.1806, -5.4545, -5.55, -5.8479, -5.844, -5.9352, -5.8423, -5.4876, -5.8414, -5.7015, -5.9396, -6.0521], \"loglift\": [30.0, 29.0, 28.0, 27.0, 26.0, 25.0, 24.0, 23.0, 22.0, 21.0, 20.0, 19.0, 18.0, 17.0, 16.0, 15.0, 14.0, 13.0, 12.0, 11.0, 10.0, 9.0, 8.0, 7.0, 6.0, 5.0, 4.0, 3.0, 2.0, 1.0, 1.388, 1.388, 1.3875, 1.3875, 1.3874, 1.3874, 1.3871, 1.3871, 1.387, 1.3867, 1.3867, 1.3865, 1.3864, 1.3864, 1.3863, 1.3863, 1.3861, 1.3861, 1.3861, 1.3861, 1.3859, 1.3858, 1.3857, 1.3857, 1.3856, 1.3856, 1.3856, 1.3856, 1.3855, 1.3854, 1.3642, 1.3766, 1.3769, 1.374, 1.3783, 1.3282, 1.3445, 1.3373, 1.3705, 1.3516, 1.3019, 1.306, 1.2831, 1.2607, 1.3375, 1.3559, 1.1703, 1.299, 1.2305, 1.2717, 1.1965, 1.1665, 1.2754, 0.6251, 0.6459, 0.6008, 0.753, 0.8754, 0.6199, 0.8917, 0.8544, 0.7899, 0.7208, 0.663, 0.7673, 0.5538, 0.2696, 0.4179, 0.3665, 0.3846, 0.2165, 0.0598, 0.0634, 0.4716, 0.57, 0.549, 0.3893, 0.0794, 0.295, 0.0839, 1.4201, 1.4199, 1.4199, 1.4198, 1.4198, 1.4197, 1.4197, 1.4197, 1.4196, 1.4195, 1.4195, 1.4195, 1.4195, 1.4194, 1.4194, 1.4194, 1.4193, 1.4191, 1.4189, 1.4188, 1.4188, 1.4187, 1.4186, 1.4186, 1.4186, 1.4185, 1.4185, 1.4185, 1.4185, 1.4184, 1.4177, 1.4118, 1.4084, 1.3752, 1.3925, 1.3801, 1.3301, 1.3857, 1.2809, 0.8187, 1.0576, 1.0127, 0.7312, 0.3323, 0.7969, 0.8475, 0.5308, 0.1121, 0.9912, 1.1089, 0.4816, 0.2645, 0.1473, 0.1189, -0.1479, -0.4483, 0.3987, -0.1103, 0.4615, 0.4097, -0.5837, 0.1213, -0.0714, -0.623, 0.415, 0.3472, 0.0111, 1.5319, 1.5315, 1.5312, 1.5312, 1.531, 1.531, 1.5308, 1.5307, 1.5306, 1.5304, 1.5304, 1.5304, 1.5303, 1.5301, 1.53, 1.53, 1.5297, 1.5297, 1.5295, 1.5292, 1.5291, 1.529, 1.5287, 1.5282, 1.5281, 1.5279, 1.5279, 1.5279, 1.5276, 1.5276, 1.5256, 1.5174, 1.5125, 1.4825, 1.5019, 1.5087, 1.451, 1.4786, 1.4773, 1.486, 1.486, 1.3812, 1.4888, 1.4808, 1.441, 1.2666, 1.3658, 1.1086, 1.3128, 1.3935, 1.1134, 0.8872, 0.9664, 1.3482, 0.4884, 0.7613, 0.4586, 0.0866, 0.3827, 0.5533, -0.0505, 0.4205, 0.0802, 0.5019, -0.4427, -0.4938, 0.0888, -0.209, -0.571, -0.3907, 0.159, -0.0686, 0.3703, 0.0657, -0.277, -0.258, 0.0281, -0.3202, 0.0719, 0.1094, 1.6952, 1.6952, 1.695, 1.6949, 1.6947, 1.6946, 1.6944, 1.6944, 1.6939, 1.6939, 1.6939, 1.6939, 1.6939, 1.6937, 1.6937, 1.6935, 1.6933, 1.6931, 1.6927, 1.6926, 1.6926, 1.6923, 1.6923, 1.6922, 1.6922, 1.6922, 1.6922, 1.6921, 1.692, 1.6919, 1.6909, 1.6897, 1.6613, 1.6402, 1.6744, 1.6821, 1.6719, 1.6488, 1.5748, 1.6549, 1.6105, 1.4882, 1.5358, 1.5323, 1.5084, 1.5906, 1.4134, 1.4678, 1.4959, 0.9215, 1.4621, 0.536, 1.0245, 0.831, 1.2014, 1.2497, 0.4283, 0.5869, 0.1589, 0.2036, 0.1206, 0.3804, 0.1324, 0.3617, 0.2726, 0.2985, 0.8186, 0.5471, 0.2672, 0.1299, -0.1978, 0.3187, 0.3734, 0.3981, 0.0001, 0.2922, -0.2491, 0.0487, 0.0846, 2.2098, 2.2095, 2.2093, 2.2091, 2.2091, 2.2087, 2.208, 2.2076, 2.2075, 2.2074, 2.2069, 2.2066, 2.2065, 2.2063, 2.2056, 2.2054, 2.2051, 2.205, 2.205, 2.2049, 2.2048, 2.2047, 2.2046, 2.2043, 2.2039, 2.2039, 2.2037, 2.2035, 2.2033, 2.2033, 2.1991, 2.162, 2.1284, 2.1224, 2.1555, 2.1526, 2.1153, 2.1563, 2.1631, 2.1418, 2.0182, 2.1524, 1.9494, 2.0762, 2.0512, 1.9628, 1.8439, 1.6687, 1.6213, 1.7714, 1.6974, 1.5386, 1.5751, 1.4681, 1.4276, 1.7993, 1.6661, 1.7598, 1.2165, 1.5644, 0.6462, 0.5826, 1.0128, 1.0056, 1.1386, 0.92, -0.5665, 0.169, -0.7424, -0.1498, 0.7911]}, \"token.table\": {\"Topic\": [2, 3, 4, 2, 3, 4, 1, 2, 3, 4, 5, 3, 5, 1, 2, 3, 4, 5, 1, 4, 5, 1, 3, 5, 2, 2, 2, 1, 2, 3, 4, 5, 4, 2, 1, 1, 2, 3, 4, 5, 3, 4, 4, 4, 5, 2, 3, 4, 1, 2, 3, 4, 5, 2, 1, 1, 1, 2, 3, 4, 5, 5, 5, 1, 1, 4, 1, 2, 3, 4, 5, 4, 3, 3, 1, 2, 3, 4, 1, 2, 3, 4, 5, 2, 1, 3, 5, 3, 5, 2, 3, 4, 5, 1, 3, 2, 2, 2, 2, 3, 1, 3, 4, 5, 3, 4, 1, 2, 3, 5, 1, 2, 4, 5, 5, 1, 5, 1, 2, 3, 4, 5, 1, 1, 1, 2, 3, 4, 5, 1, 5, 4, 3, 3, 4, 2, 4, 1, 3, 4, 5, 1, 4, 2, 4, 4, 1, 3, 5, 2, 3, 1, 3, 5, 1, 2, 4, 5, 1, 2, 3, 4, 5, 1, 3, 1, 2, 3, 4, 5, 1, 2, 3, 4, 1, 3, 5, 2, 3, 4, 1, 1, 1, 2, 3, 4, 5, 3, 3, 3, 1, 3, 2, 4, 5, 3, 4, 1, 1, 2, 3, 4, 5, 2, 4, 1, 4, 1, 2, 3, 3, 4, 1, 2, 3, 5, 3, 1, 2, 3, 4, 5, 1, 5, 2, 3, 4, 1, 1, 5, 3, 5, 1, 2, 3, 5, 5, 1, 4, 5, 1, 2, 3, 4, 5, 5, 1, 2, 3, 4, 5, 2, 3, 4, 5, 2, 1, 2, 3, 4, 5, 1, 2, 3, 4, 5, 2, 3, 4, 1, 5, 5, 2, 5, 5, 2, 3, 4, 1, 2, 3, 4, 3, 1, 1, 2, 3, 4, 3, 4, 4, 1, 2, 4, 5, 4, 3, 4, 2, 2, 3, 5, 1, 1, 2, 3, 4, 5, 2, 3, 5, 3, 1, 2, 3, 4, 5, 4, 1, 2, 2, 5, 2, 1, 2, 3, 4, 5, 2, 2, 2, 5, 1, 1, 3, 4, 5, 4, 1, 2, 3, 4, 5, 1, 2, 3, 4, 5, 3, 5, 2, 3, 4, 1, 2, 3, 4, 5, 4, 1, 2, 3, 4, 5, 1, 2, 3, 4, 1, 2, 3, 4, 5, 1, 2, 3, 4, 5, 2, 4, 1, 5, 1, 2, 3, 4, 5, 1, 2, 3, 4, 5, 2, 1, 2, 3, 4, 5, 1, 5, 1, 2, 3, 4, 5, 1, 1, 2, 3, 1, 3, 1, 3, 5, 2, 3, 4, 2, 2, 4, 1, 2, 5, 1, 3, 2, 4, 1, 3, 4, 5, 2, 1, 1, 2, 3, 4, 5, 1, 2, 3, 4, 5, 4, 1, 2, 3, 4, 5, 3, 2, 3, 5, 1, 2, 3, 4, 5, 1, 2, 3, 4, 5, 5, 3, 1, 2, 3, 4, 5, 1, 3, 4, 5, 2, 3, 2, 4, 5, 4, 1, 2, 3, 4, 5, 1, 3, 3, 1, 4, 4, 5, 1, 2, 3, 4, 5, 1, 4, 4, 1, 2, 3, 4, 5, 5, 5, 1, 3, 5, 1, 5, 1, 2, 3, 4, 5, 3, 1, 2, 3, 4, 5, 1, 3, 5, 1, 3, 4, 5, 1, 2, 3, 4, 5, 1, 3, 4, 5, 1, 1, 4, 5, 4, 5, 2, 2, 1, 2, 1, 1, 2, 3, 4, 5, 3, 1, 2, 3, 4, 5, 1, 3, 4, 5, 3, 5, 1, 2, 3, 4, 5, 2, 4, 2, 1, 4, 1, 2, 3, 5, 1, 2, 3, 4, 5, 1, 2, 5, 1, 2, 3, 4, 5, 1, 5, 4, 1, 2, 4, 3, 1, 2, 5, 1, 3, 4, 5, 1, 2, 3, 4, 5, 3, 5, 1, 3, 4, 5, 4, 1, 2, 3, 4, 5, 4, 3, 1, 2, 3, 4, 5, 1, 2, 3, 4, 5, 1, 2, 3, 4, 5, 4, 5, 1, 2, 3, 4, 5, 1, 2, 3, 4, 5, 1, 2, 3, 4, 5, 5, 1, 2, 3, 4, 5, 1, 1, 2, 3, 5, 1, 3, 4, 5, 4, 1, 2, 3, 4, 2, 5, 2, 2, 1, 2, 3, 4, 5, 1, 2, 3, 4, 5, 1, 5, 1, 2, 3, 4, 5, 1, 2, 3, 4, 5, 1, 3, 4, 5, 1, 2, 3, 4, 5, 3, 1, 2, 3, 4, 5, 4, 5, 2, 1, 5, 3, 2, 4, 2, 3, 4, 5, 1, 2, 3, 4, 5, 2, 3, 4, 5, 1, 2, 3, 4, 5, 5, 1, 2, 4, 5, 1, 2, 5, 2, 4, 3, 1, 5, 1, 2, 3, 4, 5, 1, 2, 3, 4, 5, 1, 2, 3, 4, 5, 1, 2, 3, 4, 5, 1, 5, 5, 5, 5, 5, 5, 5, 5, 1, 2, 3, 4, 5, 3], \"Freq\": [0.047337039005186536, 0.9487989122343911, 0.002058132130660284, 0.11523374311657865, 0.8704819243536144, 0.014014914703367675, 0.2712053898855006, 0.2443113272141827, 0.23596001301624714, 0.11861697115033899, 0.12979923931367643, 0.9967835911507641, 0.9979919003747892, 0.5985931466211208, 0.13856100870925425, 0.11866383963854818, 0.1189035645671109, 0.025171117499085977, 0.9878155114962226, 0.002229831854393279, 0.008919327417573116, 0.1609225119994402, 0.14617662444570662, 0.6924155894796629, 0.9986129779902232, 0.9993256818237439, 0.9993148640793389, 0.30969552695994407, 0.21642211250257448, 0.1752567508146851, 0.28147033170980895, 0.01719565741392847, 0.9980543441327528, 0.999573549705599, 0.9971607416746727, 0.1681351482459661, 0.02795298990689759, 0.27243734939110636, 0.02127764903360861, 0.5106635768066067, 0.9960574696081482, 0.9995388130679522, 0.9975906296147629, 0.9855916766074885, 0.011946565777060466, 0.95608644180182, 0.025799157953382446, 0.018211170320034668, 0.09759592221285408, 0.5639542828176615, 0.1552525901047556, 0.18257944832435472, 0.0006005902905406405, 0.9991138061497655, 0.9989383003265235, 0.9972034786488957, 0.3846311221258622, 0.06355914624567059, 0.21131778004359553, 0.040953058147983626, 0.2994487611780563, 0.9984349072606722, 0.9935665477480393, 0.9967992670112339, 0.9969022472104663, 0.9970997718125469, 0.2888156502366163, 0.08526366389521729, 0.17683203533198236, 0.17413001781417617, 0.27500533847894026, 0.9972202833712933, 0.9966099295824833, 0.9945359800259863, 0.9414319883773986, 0.024838971079448272, 0.025538660405629913, 0.008396271914179698, 0.8999910087043996, 0.006326084878428301, 0.022773905562341882, 0.023617383546132322, 0.047234767092264644, 0.9984367271113715, 0.892821931943192, 0.03586659124018562, 0.07045223279322176, 0.9976248206179181, 0.9942355473411867, 0.6512116529066833, 0.24386186721750971, 0.10046743593230738, 0.0045667016332866985, 0.4322453719453701, 0.567792701126845, 0.9993612132282156, 0.9996149294980299, 0.9988570824548206, 0.9993889301740484, 0.995590518280811, 0.9673200733352917, 0.03168078842801174, 0.9973863680717789, 0.9991639956564278, 0.9925575328826864, 0.006954857587766572, 0.06674602945387799, 0.030755523375806528, 0.3042833695691497, 0.5980967737337695, 0.3172789585319195, 0.013387297828351033, 0.02476650098244941, 0.6439290255436847, 0.988608432916054, 0.9990379203391658, 0.9968632565412755, 0.5493432470129886, 0.029312264728658752, 0.22926378484200954, 0.06333542914585195, 0.12850287483724507, 0.9955315898634078, 0.9994536163038382, 0.2827890351168295, 0.2523738251938927, 0.25309799685872447, 0.1837585599510768, 0.027880609096025445, 0.9495293798628476, 0.04934830110398312, 0.9981416866180537, 0.999107602314042, 0.9960545262448331, 0.9972605586187503, 0.02015372737698738, 0.9785754293048317, 0.25871827920519663, 0.3464575217182633, 0.024746965837018804, 0.37007962547178125, 0.9987292107762799, 0.99570561994398, 0.004000937049448541, 0.9922323882632383, 0.9982008523115155, 0.9968816446811996, 0.010319484097550086, 0.9877220493369367, 0.019213223416439745, 0.9798743942384269, 0.8800029647145369, 0.02300275846103682, 0.09731936271977117, 0.13095913613048016, 0.02553291333361563, 0.018943774408811596, 0.8244660079661047, 0.5128665549942167, 0.06317603414813278, 0.2024704149955783, 0.16956623054342582, 0.05220797266408194, 0.9850579350838172, 0.013595529844318683, 0.2700574667042201, 0.2721543575368233, 0.15682536174364395, 0.26829166389781733, 0.03277771459385099, 0.975793365013887, 0.01091347842449742, 0.008345601148145088, 0.004814769893160627, 0.9170301063990532, 0.021736139613558598, 0.061096176211083625, 0.04800729832521459, 0.9514173668087982, 0.0008728599695493562, 0.9976074475223715, 0.9983501249174593, 0.6084751929346087, 0.02209194165219015, 0.09752014243609652, 0.03913429664102255, 0.23291218484737614, 0.9976645214738978, 0.99927861172242, 0.9989959164325226, 0.9138766048902907, 0.0846679795707181, 0.01832027660403016, 0.1076316250486772, 0.8747932078424402, 0.998593609242091, 0.998910699374273, 0.9981695166337066, 0.17377690606977986, 0.3640852505425739, 0.22514244682200243, 0.2060525715232837, 0.030898045586586, 0.9610118430711337, 0.038398961332215924, 0.11391366400086293, 0.8856787376067093, 0.025120512250053254, 0.9655696896114219, 0.00942019209376997, 0.20367163771912228, 0.7960714011924833, 0.038095963788327795, 0.00859482109858615, 0.038095963788327795, 0.9152323007683629, 0.9994615142645548, 0.16489229043517162, 0.2640446282363209, 0.18550382673956808, 0.3169837320076128, 0.06877744219467027, 0.005336475301499483, 0.9939185249042787, 0.15073917647760304, 0.8313493975431441, 0.016748797386400338, 0.9975761220638025, 0.05304503279431841, 0.9459697514986783, 0.003805597171553193, 0.9961150596540482, 0.1107183627512088, 0.04403571245786714, 0.18243366589687815, 0.6630520132941708, 0.9940812509220378, 0.0520994693160382, 0.9455309402727846, 0.002083978772641528, 0.37874374157583596, 0.11285110285562978, 0.16689247605410037, 0.24715980977535817, 0.09434533850405266, 0.9979089674519522, 0.26452709134669605, 0.21356703617918707, 0.08394664689419531, 0.42100194953738757, 0.017127653396548665, 0.07031392263809269, 0.07282513416088171, 0.8487894947026903, 0.008789240329761586, 0.9998804221728886, 0.2366990420948587, 0.1967498366780049, 0.14115385913955006, 0.41580464638041986, 0.009654391309072998, 0.3295587643661197, 0.20525304475640557, 0.17378324232356657, 0.2664443272647037, 0.024826177474795225, 0.3221880741025412, 0.6545078486485586, 0.02330291101999512, 0.22955315682502037, 0.7700911713671172, 0.9951191545556203, 0.9726989857660077, 0.027225671357318283, 0.9902469626853172, 0.01573501468820496, 0.921767312057426, 0.06243247763384548, 0.24286572966946482, 0.06906494187475405, 0.04781419052867588, 0.6397994065979964, 0.9975150620240408, 0.9971554158332632, 0.05547422495489684, 0.0808999113925579, 0.011557130198936841, 0.8517604956616452, 0.9468057889915152, 0.05226270722289494, 0.9982499921875709, 0.12621812926265516, 0.024792846819450123, 0.8283064732861745, 0.02028505648864101, 0.9958898542557182, 0.9941318931106575, 0.9992303011404301, 0.9974071755582897, 0.7326684773515479, 0.24560373029151242, 0.02189720005008665, 0.9986981686876532, 0.43385291216090716, 0.16301385155457615, 0.1296773594069182, 0.2521770051935273, 0.021054626619573438, 0.027136873966414708, 0.020691866399391214, 0.9521650652965761, 0.9954328301811252, 0.1813211089679802, 0.07812758734706508, 0.4622548918034684, 0.036459540761963706, 0.24186998916195562, 0.9942666294426574, 0.9961576973067026, 0.9981657915106544, 0.9986156493350755, 0.0006622119690550899, 0.9993471026496564, 0.586180247493836, 0.13947797091930703, 0.10406485580839167, 0.1450695154105042, 0.0254725915710093, 0.9998201629847332, 0.9993620759547627, 0.9989735646797324, 0.9988311506619114, 0.9976849451678854, 0.05572479044482489, 0.8593349263333522, 0.018697133636092562, 0.06598988342150315, 0.9976034506537217, 0.36643055516590023, 0.28004810936374475, 0.13796732978182105, 0.18343762622079351, 0.03212937816836929, 0.17670715242297555, 0.1813573406446328, 0.09944248658620891, 0.5108052908097349, 0.031478197192756775, 0.9843330750977124, 0.0131998688231494, 0.4511860199102735, 0.5243418602215592, 0.02415192814104645, 0.002002275827534158, 0.052059171515888104, 0.03604096489561484, 0.8990218465628369, 0.012013654965204948, 0.9994817329517707, 0.030387017401533843, 0.06302492498095907, 0.12154806960613537, 0.005627225444728489, 0.7799334466393686, 0.08266130171877906, 0.6958419631459125, 0.1552632915881829, 0.06604156909807216, 0.35978298999603053, 0.22494349990367654, 0.16374873914188837, 0.20880074404754967, 0.04262531611683177, 0.4660239185259648, 0.134782594729533, 0.12201873063500479, 0.2149853825473894, 0.062200024281544204, 0.9914625383320727, 0.007254603939015166, 0.825130302281181, 0.17419417492602712, 0.24831536394635592, 0.2598844119627628, 0.2305426235153541, 0.19952416144237917, 0.06153392205827996, 0.11997930903458857, 0.383394089596687, 0.23476920158844233, 0.1764401603449832, 0.0855215836025095, 0.9998739724122558, 0.1534598242975326, 0.2846983621559423, 0.32876108398394666, 0.11680419794923583, 0.11604449584875298, 0.9569468056590872, 0.04296152032448367, 0.02312155986127666, 0.01284531103404259, 0.9466994232089389, 0.01156077993063833, 0.005138124413617036, 0.9985887713316113, 0.9990842340942163, 0.04435167028297874, 0.9552667445564652, 0.9882513124631157, 0.010756476870346837, 0.9503608919743927, 0.04389216970966071, 0.00572506561430357, 0.022997695126921867, 0.9535198210316066, 0.021228641655620183, 0.9980969192659457, 0.9984272018205086, 0.9968013252582222, 0.9963266174231236, 0.09037074150222806, 0.9087280117724044, 0.9965166358024004, 0.998588387325999, 0.9992322814479366, 0.9968951644366261, 0.013411188190694156, 0.9119607969672026, 0.020861848296635354, 0.053644752762776624, 0.9978750946901835, 0.9971863138204896, 0.4318526269676099, 0.14971453376318505, 0.21276333037613201, 0.09130477904149174, 0.11428912295724832, 0.36812633945312906, 0.15033857129984302, 0.2221760291533896, 0.18235662378207984, 0.07720088796478425, 0.9985976959092209, 0.529538781643929, 0.0483713310155512, 0.1264019255222167, 0.26336916808204064, 0.032332415994605276, 0.9989153471193218, 0.019586643713353617, 0.9765340937086304, 0.002798091959050517, 0.2238883611691426, 0.12283369231458796, 0.35659521078561235, 0.1631974824605164, 0.13328762357540397, 0.26479883752745387, 0.33693042050984273, 0.20534451583990215, 0.15050010735047303, 0.0425061114003363, 0.9928663831912256, 0.9978283295630245, 0.4758003582013434, 0.12958265016866188, 0.13868089191295097, 0.22481809185888324, 0.031117063480468037, 0.23486301312754992, 0.07704992130271401, 0.10768422736282922, 0.580195190532485, 0.9976888475895688, 0.9982304001500522, 0.032117852606456755, 0.9606157734112976, 0.005839609564810319, 0.9945648003018659, 0.0667420854102438, 0.5479034775131676, 0.2340237659352798, 0.14297306155772674, 0.008316106488816321, 0.02932134080560163, 0.9696986280709682, 0.9975667523792324, 0.9989486180359822, 0.9966279208436756, 0.9975525378110568, 0.9935909756302385, 0.09877830784233697, 0.04311751532800424, 0.03919774120727658, 0.8121771978147707, 0.007055593417309784, 0.03371870406845372, 0.9655221222678382, 0.997856701551144, 0.5372108133284739, 0.14661320488042762, 0.11378520075160321, 0.08429563772062536, 0.1179582521239114, 0.9933963710624844, 0.9979495415484689, 0.8896145178968617, 0.03260367343077504, 0.0780159328522117, 0.06440215678643268, 0.933831273403274, 0.8006100835503256, 0.04934869985625647, 0.08360250328589332, 0.029609219913753884, 0.0371566681270637, 0.9988343285697118, 0.48401176037906635, 0.14960001800454498, 0.17128406316743777, 0.0676383060126932, 0.1275181004533422, 0.05417231514569679, 0.09229357395192786, 0.8527123680341161, 0.1181955756344318, 0.32144778046373507, 0.005799315626923055, 0.5545250370886426, 0.09950847487128688, 0.13730255907720834, 0.65733002150552, 0.025833930976199477, 0.07989382357454283, 0.14020621585114282, 0.14085232744492687, 0.6099293445321604, 0.10919285934950754, 0.9974566389976925, 0.9642708663331098, 0.015859718196268253, 0.02061763365514873, 0.9963372311386832, 0.9941532596788278, 0.9993858867413392, 0.9992766825603482, 0.9816652459870022, 0.016518405581512057, 0.9964289584866589, 0.16076023248868573, 0.3912078134644394, 0.240955990668248, 0.19154802930704642, 0.01567043550635125, 0.9980907269458669, 0.09444944155307476, 0.5362457364680038, 0.10941683939481886, 0.2544457633096495, 0.005419230253045274, 0.9207331913832247, 0.06112484499050059, 0.016728904944768582, 0.0012868388419052755, 0.9577890919561184, 0.042286494126097945, 0.17168503890842274, 0.5020197711785176, 0.1274920381523658, 0.19250979825749995, 0.006199737516137488, 0.023257703625620744, 0.9768235522760712, 0.9984956156038451, 0.9996952318721651, 0.9986928610279372, 0.03275015859961502, 0.11462555509865256, 0.8460457638233879, 0.005458359766602503, 0.13458018514897177, 0.3660096789508767, 0.15334473870047757, 0.24555335131379105, 0.1004811577274182, 0.03699846629020845, 0.01985283557035575, 0.9430096895918982, 0.28369290934586033, 0.18899195261335494, 0.10085036950734341, 0.08404197458945285, 0.3423173111326494, 0.04335445813932464, 0.9537980790651421, 0.9985146183928288, 0.01959859970124909, 0.18945313044540787, 0.7917834279304633, 0.9974759721562024, 0.9988672233430986, 0.9882695745101472, 0.011371302635577007, 0.43895608629994215, 0.0759731687826823, 0.00920886894335543, 0.47579156207336387, 0.06991233039618071, 0.01431939297271171, 0.766508682656921, 0.013055917122178323, 0.13603423324076125, 0.998877762823353, 0.9970388957223925, 0.8536160141675005, 0.06806506679572003, 0.05365128794486167, 0.02482373024314495, 0.995558915983966, 0.21652065230268094, 0.2717310181891739, 0.3754304880281519, 0.13058451757500936, 0.0055210365886492925, 0.998067947277443, 0.9969645105957725, 0.4547654480539447, 0.1543590293655687, 0.13179886353521633, 0.20690046820731034, 0.05214564645875301, 0.16523670590293643, 0.09946287151438891, 0.13475614850336562, 0.07620139349892699, 0.5237843153136771, 0.3997303846362442, 0.056464516117084515, 0.31655319375555313, 0.03103149044395013, 0.19626617925116913, 0.9947700005495628, 0.004774201573318146, 0.8039747147976702, 0.024858176272863165, 0.030306543675134544, 0.05278105920950398, 0.08819544732426794, 0.24924785778559566, 0.34200448066014383, 0.19841191723267357, 0.17621861482710682, 0.03414354216241037, 0.21315069084109156, 0.31486657329118145, 0.13979277038297697, 0.32977780213203234, 0.0023964474922796054, 0.9967765388579695, 0.24098635860269169, 0.27279709257243134, 0.2016907460518368, 0.23951611459568692, 0.04490927148669129, 0.9957284963670606, 0.1288010477041692, 0.03335027128054381, 0.20125163703776439, 0.637105182393837, 0.11799389566258169, 0.05117807522714386, 0.8188492036343018, 0.01137290560603197, 0.9955332674000704, 0.029684384578233153, 0.9140743251159381, 0.041967578196812384, 0.014330392555009107, 0.9970412095904777, 0.0017584501050978442, 0.9977004703274686, 0.9988356902810125, 0.1045799658908279, 0.41086073935858003, 0.3415974431717872, 0.1019921064728598, 0.04094906961373028, 0.4635401972410387, 0.15096507467557835, 0.11548183062789968, 0.24085595959636433, 0.02913927011188158, 0.9901209334613565, 0.009803177559023333, 0.3349572383310148, 0.08722521978740118, 0.3519994659981802, 0.016732368982307864, 0.2091546122788483, 0.3905983844680255, 0.14122612598029585, 0.3127331690626732, 0.055981527415612777, 0.09923998041858628, 0.22339781762205235, 0.24493013739285258, 0.0021532319770800226, 0.5296950663616855, 0.3574827151495288, 0.06725578422182979, 0.25080112638386776, 0.022860340449784508, 0.3018227557935317, 0.9926258516386356, 0.38083597606888764, 0.06469800365649056, 0.050729116503384644, 0.04705309356835677, 0.4569296508239646, 0.05077339828270249, 0.9451663372626156, 0.9978350790603171, 0.05390142565215692, 0.9412018171568939, 0.9926151618672469, 0.04486347905378053, 0.9538365764042904, 0.8699647113563233, 0.09691123605511741, 0.028327899769957397, 0.0044728262794669574, 0.18955404551166533, 0.360002841376898, 0.20416394230011384, 0.18786828818992127, 0.058439587153794055, 0.15143600826921907, 0.8021223405743797, 0.03126420815880652, 0.014655097574440555, 0.24704511694055287, 0.2559920576131967, 0.18624243849176936, 0.27315557645459504, 0.037613668950298516, 0.9991703406044109, 0.1914328040424214, 0.012923733606239421, 0.7536152159138362, 0.04200213422027812, 0.4069838171171408, 0.011552467901610146, 0.5814742177143774, 0.0813259266433355, 0.9189829710696912, 0.9987807531632942, 0.998354117661157, 0.9889812199686258, 0.10048774499703517, 0.6653694720174057, 0.09469832758979858, 0.07815713499769403, 0.061202412590786855, 0.4409899488745895, 0.157394470888203, 0.21183012338451154, 0.075435173871289, 0.11437603389673819, 0.26569242418681954, 0.27033149825992275, 0.23546815371054114, 0.20939093429961256, 0.01911860830127379, 0.3265780823085078, 0.2084033165509502, 0.14612098072172275, 0.3134903232343809, 0.005389077265816961, 0.07919137574916975, 0.9206843492547705, 0.9951876132099171, 0.9976932196213977, 0.9985516396815088, 0.9984630415613486, 0.9976844748797492, 0.9925256212511323, 0.9893128854434688, 0.1276025550945878, 0.16695991302832647, 0.23208486853303312, 0.46099290996827563, 0.012530817996840572, 0.9963131759515428], \"Term\": [\"administration\", \"administration\", \"administration\", \"agency\", \"agency\", \"agency\", \"also\", \"also\", \"also\", \"also\", \"also\", \"amendment\", \"animation\", \"anyone\", \"anyone\", \"anyone\", \"anyone\", \"anyone\", \"apple\", \"apple\", \"apple\", \"application\", \"application\", \"application\", \"arab\", \"armenia\", \"armenian\", \"article\", \"article\", \"article\", \"article\", \"article\", \"atf\", \"atheist\", \"ati\", \"available\", \"available\", \"available\", \"available\", \"available\", \"ban\", \"baseball\", \"batf\", \"bd\", \"bd\", \"belief\", \"belief\", \"belief\", \"believe\", \"believe\", \"believe\", \"believe\", \"believe\", \"bible\", \"bike\", \"bios\", \"bit\", \"bit\", \"bit\", \"bit\", \"bit\", \"bitmap\", \"bmp\", \"bmw\", \"brake\", \"bruin\", \"c\", \"c\", \"c\", \"c\", \"c\", \"cal\", \"cancer\", \"candida\", \"car\", \"car\", \"car\", \"car\", \"card\", \"card\", \"card\", \"card\", \"card\", \"catholic\", \"cd\", \"cd\", \"cd\", \"cdc\", \"char\", \"child\", \"child\", \"child\", \"child\", \"chip\", \"chip\", \"christ\", \"christian\", \"christianity\", \"church\", \"cipher\", \"circuit\", \"circuit\", \"clayton\", \"client\", \"clipper\", \"clipper\", \"code\", \"code\", \"code\", \"code\", \"color\", \"color\", \"color\", \"color\", \"colormap\", \"com\", \"compile\", \"computer\", \"computer\", \"computer\", \"computer\", \"computer\", \"connector\", \"controller\", \"could\", \"could\", \"could\", \"could\", \"could\", \"cpu\", \"cpu\", \"cramer\", \"crypto\", \"cryptography\", \"cub\", \"cup\", \"cup\", \"data\", \"data\", \"data\", \"data\", \"db\", \"defensive\", \"det\", \"det\", \"detroit\", \"diamond\", \"directory\", \"directory\", \"disease\", \"disease\", \"disk\", \"disk\", \"disk\", \"display\", \"display\", \"display\", \"display\", \"distribution\", \"distribution\", \"distribution\", \"distribution\", \"distribution\", \"dod\", \"dod\", \"dont\", \"dont\", \"dont\", \"dont\", \"dont\", \"drive\", \"drive\", \"drive\", \"drive\", \"driver\", \"driver\", \"driver\", \"drug\", \"drug\", \"drug\", \"duo\", \"dx\", \"email\", \"email\", \"email\", \"email\", \"email\", \"encrypted\", \"encryption\", \"enforcement\", \"engine\", \"engine\", \"entry\", \"entry\", \"entry\", \"escrow\", \"espn\", \"ethernet\", \"even\", \"even\", \"even\", \"even\", \"even\", \"faith\", \"faith\", \"fan\", \"fan\", \"father\", \"father\", \"father\", \"fbi\", \"fbi\", \"file\", \"file\", \"file\", \"file\", \"firearm\", \"first\", \"first\", \"first\", \"first\", \"first\", \"font\", \"font\", \"food\", \"food\", \"food\", \"ford\", \"format\", \"format\", \"ftp\", \"ftp\", \"function\", \"function\", \"function\", \"function\", \"functionality\", \"game\", \"game\", \"game\", \"get\", \"get\", \"get\", \"get\", \"get\", \"gif\", \"go\", \"go\", \"go\", \"go\", \"go\", \"goal\", \"goal\", \"goal\", \"goal\", \"god\", \"going\", \"going\", \"going\", \"going\", \"going\", \"good\", \"good\", \"good\", \"good\", \"good\", \"government\", \"government\", \"government\", \"graphic\", \"graphic\", \"graphical\", \"greek\", \"greek\", \"gui\", \"gun\", \"gun\", \"gun\", \"guy\", \"guy\", \"guy\", \"guy\", \"handgun\", \"hd\", \"he\", \"he\", \"he\", \"he\", \"health\", \"health\", \"henryzootorontoedu\", \"hit\", \"hit\", \"hit\", \"hit\", \"hitter\", \"hiv\", \"hockey\", \"homosexuality\", \"human\", \"human\", \"human\", \"ide\", \"im\", \"im\", \"im\", \"im\", \"im\", \"image\", \"image\", \"image\", \"infection\", \"information\", \"information\", \"information\", \"information\", \"information\", \"inning\", \"irq\", \"islamic\", \"israel\", \"israel\", \"israeli\", \"ive\", \"ive\", \"ive\", \"ive\", \"ive\", \"jesus\", \"jew\", \"jewish\", \"jpeg\", \"jumper\", \"key\", \"key\", \"key\", \"key\", \"kinsey\", \"know\", \"know\", \"know\", \"know\", \"know\", \"last\", \"last\", \"last\", \"last\", \"last\", \"launch\", \"launch\", \"law\", \"law\", \"law\", \"leaf\", \"leaf\", \"leaf\", \"leaf\", \"leaf\", \"league\", \"library\", \"library\", \"library\", \"library\", \"library\", \"life\", \"life\", \"life\", \"life\", \"like\", \"like\", \"like\", \"like\", \"like\", \"line\", \"line\", \"line\", \"line\", \"line\", \"lord\", \"lord\", \"mac\", \"mac\", \"make\", \"make\", \"make\", \"make\", \"make\", \"many\", \"many\", \"many\", \"many\", \"many\", \"maxaxaxaxaxaxaxaxaxaxaxaxaxaxax\", \"may\", \"may\", \"may\", \"may\", \"may\", \"mb\", \"mb\", \"medical\", \"medical\", \"medical\", \"medical\", \"medical\", \"meg\", \"mhz\", \"mission\", \"mission\", \"modem\", \"modem\", \"monitor\", \"monitor\", \"monitor\", \"moon\", \"moon\", \"moon\", \"moral\", \"morality\", \"morris\", \"motherboard\", \"motif\", \"motif\", \"motorcycle\", \"msg\", \"muslim\", \"myers\", \"nasa\", \"nasa\", \"nasa\", \"nasa\", \"nazi\", \"nec\", \"need\", \"need\", \"need\", \"need\", \"need\", \"new\", \"new\", \"new\", \"new\", \"new\", \"nhl\", \"nntppostinghost\", \"nntppostinghost\", \"nntppostinghost\", \"nntppostinghost\", \"nntppostinghost\", \"nsa\", \"nuclear\", \"nuclear\", \"nuclear\", \"number\", \"number\", \"number\", \"number\", \"number\", \"one\", \"one\", \"one\", \"one\", \"one\", \"openwindows\", \"orbit\", \"organization\", \"organization\", \"organization\", \"organization\", \"organization\", \"package\", \"package\", \"package\", \"package\", \"palestinian\", \"patient\", \"pen\", \"pen\", \"pen\", \"penguin\", \"people\", \"people\", \"people\", \"people\", \"people\", \"pgp\", \"pgp\", \"physician\", \"pin\", \"pitcher\", \"pitching\", \"pixmap\", \"play\", \"play\", \"play\", \"play\", \"play\", \"player\", \"player\", \"playoff\", \"please\", \"please\", \"please\", \"please\", \"please\", \"plplot\", \"polygon\", \"port\", \"port\", \"port\", \"postscript\", \"postscript\", \"price\", \"price\", \"price\", \"price\", \"price\", \"privacy\", \"problem\", \"problem\", \"problem\", \"problem\", \"problem\", \"processing\", \"processing\", \"processing\", \"program\", \"program\", \"program\", \"program\", \"public\", \"public\", \"public\", \"public\", \"public\", \"q\", \"q\", \"q\", \"q\", \"quadra\", \"ram\", \"ram\", \"ram\", \"ranger\", \"readme\", \"religion\", \"religious\", \"ride\", \"ride\", \"riding\", \"right\", \"right\", \"right\", \"right\", \"right\", \"ripem\", \"said\", \"said\", \"said\", \"said\", \"said\", \"sale\", \"sale\", \"sale\", \"sale\", \"satellite\", \"satellite\", \"say\", \"say\", \"say\", \"say\", \"say\", \"score\", \"score\", \"scripture\", \"scsi\", \"season\", \"security\", \"security\", \"security\", \"security\", \"see\", \"see\", \"see\", \"see\", \"see\", \"server\", \"server\", \"server\", \"set\", \"set\", \"set\", \"set\", \"set\", \"shareware\", \"shareware\", \"shark\", \"shot\", \"shot\", \"shot\", \"shuttle\", \"simms\", \"sin\", \"sin\", \"software\", \"software\", \"software\", \"software\", \"space\", \"space\", \"space\", \"space\", \"space\", \"spacecraft\", \"sparc\", \"speed\", \"speed\", \"speed\", \"speed\", \"stanley\", \"state\", \"state\", \"state\", \"state\", \"state\", \"stephanopoulos\", \"sternlight\", \"subject\", \"subject\", \"subject\", \"subject\", \"subject\", \"sun\", \"sun\", \"sun\", \"sun\", \"sun\", \"system\", \"system\", \"system\", \"system\", \"system\", \"team\", \"team\", \"thanks\", \"thanks\", \"thanks\", \"thanks\", \"thanks\", \"thing\", \"thing\", \"thing\", \"thing\", \"thing\", \"think\", \"think\", \"think\", \"think\", \"think\", \"tiff\", \"time\", \"time\", \"time\", \"time\", \"time\", \"tire\", \"tool\", \"tool\", \"tool\", \"tool\", \"toronto\", \"toronto\", \"toronto\", \"toronto\", \"traded\", \"truth\", \"truth\", \"truth\", \"truth\", \"turk\", \"turk\", \"turkey\", \"turkish\", \"u\", \"u\", \"u\", \"u\", \"u\", \"university\", \"university\", \"university\", \"university\", \"university\", \"upgrade\", \"upgrade\", \"use\", \"use\", \"use\", \"use\", \"use\", \"used\", \"used\", \"used\", \"used\", \"used\", \"user\", \"user\", \"user\", \"user\", \"using\", \"using\", \"using\", \"using\", \"using\", \"venus\", \"version\", \"version\", \"version\", \"version\", \"version\", \"viewer\", \"viewer\", \"village\", \"visual\", \"visual\", \"vitamin\", \"waco\", \"waco\", \"war\", \"war\", \"war\", \"war\", \"way\", \"way\", \"way\", \"way\", \"way\", \"weapon\", \"weapon\", \"weapon\", \"weapon\", \"well\", \"well\", \"well\", \"well\", \"well\", \"widget\", \"win\", \"win\", \"win\", \"win\", \"window\", \"window\", \"window\", \"wing\", \"wing\", \"wiretap\", \"wiring\", \"wolverine\", \"word\", \"word\", \"word\", \"word\", \"word\", \"work\", \"work\", \"work\", \"work\", \"work\", \"would\", \"would\", \"would\", \"would\", \"would\", \"writes\", \"writes\", \"writes\", \"writes\", \"writes\", \"x\", \"x\", \"xfree\", \"xlib\", \"xr\", \"xterm\", \"xv\", \"xview\", \"xwindows\", \"year\", \"year\", \"year\", \"year\", \"year\", \"yeast\"]}, \"R\": 30, \"lambda.step\": 0.01, \"plot.opts\": {\"xlab\": \"PC1\", \"ylab\": \"PC2\"}, \"topic.order\": [4, 3, 5, 2, 1]};\n",
              "\n",
              "function LDAvis_load_lib(url, callback){\n",
              "  var s = document.createElement('script');\n",
              "  s.src = url;\n",
              "  s.async = true;\n",
              "  s.onreadystatechange = s.onload = callback;\n",
              "  s.onerror = function(){console.warn(\"failed to load library \" + url);};\n",
              "  document.getElementsByTagName(\"head\")[0].appendChild(s);\n",
              "}\n",
              "\n",
              "if(typeof(LDAvis) !== \"undefined\"){\n",
              "   // already loaded: just create the visualization\n",
              "   !function(LDAvis){\n",
              "       new LDAvis(\"#\" + \"ldavis_el54671343258655372483015754897\", ldavis_el54671343258655372483015754897_data);\n",
              "   }(LDAvis);\n",
              "}else if(typeof define === \"function\" && define.amd){\n",
              "   // require.js is available: use it to load d3/LDAvis\n",
              "   require.config({paths: {d3: \"https://d3js.org/d3.v5\"}});\n",
              "   require([\"d3\"], function(d3){\n",
              "      window.d3 = d3;\n",
              "      LDAvis_load_lib(\"https://cdn.jsdelivr.net/gh/bmabey/pyLDAvis@3.4.0/pyLDAvis/js/ldavis.v3.0.0.js\", function(){\n",
              "        new LDAvis(\"#\" + \"ldavis_el54671343258655372483015754897\", ldavis_el54671343258655372483015754897_data);\n",
              "      });\n",
              "    });\n",
              "}else{\n",
              "    // require.js not available: dynamically load d3 & LDAvis\n",
              "    LDAvis_load_lib(\"https://d3js.org/d3.v5.js\", function(){\n",
              "         LDAvis_load_lib(\"https://cdn.jsdelivr.net/gh/bmabey/pyLDAvis@3.4.0/pyLDAvis/js/ldavis.v3.0.0.js\", function(){\n",
              "                 new LDAvis(\"#\" + \"ldavis_el54671343258655372483015754897\", ldavis_el54671343258655372483015754897_data);\n",
              "            })\n",
              "         });\n",
              "}\n",
              "</script>"
            ]
          },
          "metadata": {},
          "execution_count": 19
        }
      ]
    },
    {
      "cell_type": "code",
      "source": [
        "# Step 4: Word Embeddings with Word2Vec\n",
        "from gensim.models import Word2Vec\n",
        "import numpy as np"
      ],
      "metadata": {
        "colab": {
          "base_uri": "https://localhost:8080/"
        },
        "id": "oOWCKvkyTarO",
        "outputId": "de9422ff-8d16-4a60-dd14-570ac684ade3"
      },
      "execution_count": null,
      "outputs": [
        {
          "output_type": "stream",
          "name": "stderr",
          "text": [
            "/usr/local/lib/python3.10/dist-packages/ipykernel/ipkernel.py:283: DeprecationWarning: `should_run_async` will not call `transform_cell` automatically in the future. Please pass the result to `transformed_cell` argument and any exception that happen during thetransform in `preprocessing_exc_tuple` in IPython 7.17 and above.\n",
            "  and should_run_async(code)\n"
          ]
        }
      ]
    },
    {
      "cell_type": "code",
      "source": [
        "# Train Word2Vec on the preprocessed documents\n",
        "word2vec_model = Word2Vec(processed_documents, vector_size=100, window=5, min_count=2, workers=4)"
      ],
      "metadata": {
        "colab": {
          "base_uri": "https://localhost:8080/"
        },
        "id": "DB2fqvW8Tebo",
        "outputId": "13cbfff9-ec14-47c8-d555-4f0f1dd6eb4f"
      },
      "execution_count": null,
      "outputs": [
        {
          "output_type": "stream",
          "name": "stderr",
          "text": [
            "/usr/local/lib/python3.10/dist-packages/ipykernel/ipkernel.py:283: DeprecationWarning: `should_run_async` will not call `transform_cell` automatically in the future. Please pass the result to `transformed_cell` argument and any exception that happen during thetransform in `preprocessing_exc_tuple` in IPython 7.17 and above.\n",
            "  and should_run_async(code)\n"
          ]
        }
      ]
    },
    {
      "cell_type": "code",
      "source": [
        "# Represent each document as an averaged word vector\n",
        "def document_vector(doc):\n",
        "    return np.mean([word2vec_model.wv[word] for word in doc if word in word2vec_model.wv], axis=0)\n",
        "\n",
        "doc_vectors = [document_vector(doc) for doc in processed_documents]"
      ],
      "metadata": {
        "colab": {
          "base_uri": "https://localhost:8080/"
        },
        "id": "sX16gokDTls1",
        "outputId": "85fbcb73-593d-483c-cdf9-5030c0e8eb87"
      },
      "execution_count": null,
      "outputs": [
        {
          "output_type": "stream",
          "name": "stderr",
          "text": [
            "/usr/local/lib/python3.10/dist-packages/ipykernel/ipkernel.py:283: DeprecationWarning: `should_run_async` will not call `transform_cell` automatically in the future. Please pass the result to `transformed_cell` argument and any exception that happen during thetransform in `preprocessing_exc_tuple` in IPython 7.17 and above.\n",
            "  and should_run_async(code)\n"
          ]
        }
      ]
    },
    {
      "cell_type": "code",
      "source": [
        "# Step 5: Document Similarity and Clustering\n",
        "from sklearn.metrics.pairwise import cosine_similarity\n",
        "from sklearn.cluster import KMeans\n",
        "import matplotlib.pyplot as plt  # Ensure this import is present\n",
        "import seaborn as sns"
      ],
      "metadata": {
        "colab": {
          "base_uri": "https://localhost:8080/"
        },
        "id": "2ggbeYIxT1aQ",
        "outputId": "4b771fcf-b579-4230-e804-a90b05796fc8"
      },
      "execution_count": null,
      "outputs": [
        {
          "output_type": "stream",
          "name": "stderr",
          "text": [
            "/usr/local/lib/python3.10/dist-packages/ipykernel/ipkernel.py:283: DeprecationWarning: `should_run_async` will not call `transform_cell` automatically in the future. Please pass the result to `transformed_cell` argument and any exception that happen during thetransform in `preprocessing_exc_tuple` in IPython 7.17 and above.\n",
            "  and should_run_async(code)\n"
          ]
        }
      ]
    },
    {
      "cell_type": "code",
      "source": [
        "# Filter out documents that returned NaN vectors due to no matching words in Word2Vec\n",
        "doc_vectors = [vec for vec in doc_vectors if vec is not None]"
      ],
      "metadata": {
        "colab": {
          "base_uri": "https://localhost:8080/"
        },
        "id": "HTiikUHgT8dc",
        "outputId": "2f7ae642-ae08-4e6b-997b-0f9e60f1170a"
      },
      "execution_count": null,
      "outputs": [
        {
          "output_type": "stream",
          "name": "stderr",
          "text": [
            "/usr/local/lib/python3.10/dist-packages/ipykernel/ipkernel.py:283: DeprecationWarning: `should_run_async` will not call `transform_cell` automatically in the future. Please pass the result to `transformed_cell` argument and any exception that happen during thetransform in `preprocessing_exc_tuple` in IPython 7.17 and above.\n",
            "  and should_run_async(code)\n"
          ]
        }
      ]
    },
    {
      "cell_type": "code",
      "source": [
        "# Compute cosine similarity matrix\n",
        "similarity_matrix = cosine_similarity(doc_vectors)"
      ],
      "metadata": {
        "colab": {
          "base_uri": "https://localhost:8080/"
        },
        "id": "1BdoktKIT__E",
        "outputId": "bf29420d-dc7a-4ed2-ba83-50dbc4849845"
      },
      "execution_count": null,
      "outputs": [
        {
          "output_type": "stream",
          "name": "stderr",
          "text": [
            "/usr/local/lib/python3.10/dist-packages/ipykernel/ipkernel.py:283: DeprecationWarning: `should_run_async` will not call `transform_cell` automatically in the future. Please pass the result to `transformed_cell` argument and any exception that happen during thetransform in `preprocessing_exc_tuple` in IPython 7.17 and above.\n",
            "  and should_run_async(code)\n"
          ]
        }
      ]
    },
    {
      "cell_type": "code",
      "source": [
        "print(\"cosine similarity matrix:\\n\",similarity_matrix)"
      ],
      "metadata": {
        "colab": {
          "base_uri": "https://localhost:8080/"
        },
        "id": "8J59C5qZaaCG",
        "outputId": "a58ce429-8f3c-4527-fceb-6472cfe6a80d"
      },
      "execution_count": null,
      "outputs": [
        {
          "output_type": "stream",
          "name": "stdout",
          "text": [
            "cosine similarity matrix:\n",
            " [[1.0000001  0.5677768  0.70964104 ... 0.64623606 0.6856889  0.8031547 ]\n",
            " [0.5677768  1.0000001  0.36961216 ... 0.83540845 0.7299082  0.7191541 ]\n",
            " [0.70964104 0.36961216 1.0000001  ... 0.4968099  0.6096514  0.7591161 ]\n",
            " ...\n",
            " [0.64623606 0.83540845 0.4968099  ... 1.0000001  0.68885905 0.823871  ]\n",
            " [0.6856889  0.7299082  0.6096514  ... 0.68885905 1.0000002  0.80723405]\n",
            " [0.8031547  0.7191541  0.7591161  ... 0.823871   0.80723405 1.0000004 ]]\n"
          ]
        },
        {
          "output_type": "stream",
          "name": "stderr",
          "text": [
            "/usr/local/lib/python3.10/dist-packages/ipykernel/ipkernel.py:283: DeprecationWarning: `should_run_async` will not call `transform_cell` automatically in the future. Please pass the result to `transformed_cell` argument and any exception that happen during thetransform in `preprocessing_exc_tuple` in IPython 7.17 and above.\n",
            "  and should_run_async(code)\n"
          ]
        }
      ]
    },
    {
      "cell_type": "code",
      "source": [
        "# Perform KMeans clustering\n",
        "kmeans = KMeans(n_clusters=5)\n",
        "clusters = kmeans.fit_predict(similarity_matrix)"
      ],
      "metadata": {
        "colab": {
          "base_uri": "https://localhost:8080/"
        },
        "id": "wPi9truhUFc3",
        "outputId": "94d8c07b-d374-4de4-948a-8392db887bd1"
      },
      "execution_count": null,
      "outputs": [
        {
          "output_type": "stream",
          "name": "stderr",
          "text": [
            "/usr/local/lib/python3.10/dist-packages/ipykernel/ipkernel.py:283: DeprecationWarning: `should_run_async` will not call `transform_cell` automatically in the future. Please pass the result to `transformed_cell` argument and any exception that happen during thetransform in `preprocessing_exc_tuple` in IPython 7.17 and above.\n",
            "  and should_run_async(code)\n",
            "/usr/local/lib/python3.10/dist-packages/sklearn/cluster/_kmeans.py:1416: FutureWarning: The default value of `n_init` will change from 10 to 'auto' in 1.4. Set the value of `n_init` explicitly to suppress the warning\n",
            "  super()._check_params_vs_input(X, default_n_init=10)\n"
          ]
        }
      ]
    },
    {
      "cell_type": "code",
      "source": [
        "plt.figure(figsize=(10, 8))\n",
        "sns.heatmap(similarity_matrix, annot=False, cmap='viridis')\n",
        "plt.title('Document Similarity Heatmap')\n",
        "plt.show()\n"
      ],
      "metadata": {
        "id": "zl188gl4crii"
      },
      "execution_count": null,
      "outputs": []
    }
  ]
}